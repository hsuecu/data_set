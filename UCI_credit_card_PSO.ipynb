{
  "cells": [
    {
      "cell_type": "markdown",
      "metadata": {
        "id": "view-in-github",
        "colab_type": "text"
      },
      "source": [
        "<a href=\"https://colab.research.google.com/github/hsuecu/data_set/blob/main/UCI_credit_card_PSO.ipynb\" target=\"_parent\"><img src=\"https://colab.research.google.com/assets/colab-badge.svg\" alt=\"Open In Colab\"/></a>"
      ]
    },
    {
      "cell_type": "markdown",
      "metadata": {
        "id": "tmfWVsuINK4m"
      },
      "source": [
        "<span style=\"display:inline-block;position:relative;font-size:64px;background-color: #d9edab;padding:200px 10px;width:100%;text-align:center\">UCI Credit Card</span><br><strong style=\"display:block;font-size:30px;padding-top:20px\">PSO</strong>"
      ]
    },
    {
      "cell_type": "code",
      "execution_count": null,
      "metadata": {
        "colab": {
          "base_uri": "https://localhost:8080/"
        },
        "id": "KoIdYASRNK4r",
        "outputId": "e80be229-a09c-42f2-9870-230ea91a137e"
      },
      "outputs": [
        {
          "output_type": "stream",
          "name": "stdout",
          "text": [
            "Looking in indexes: https://pypi.org/simple, https://us-python.pkg.dev/colab-wheels/public/simple/\n",
            "Requirement already satisfied: optunity in /usr/local/lib/python3.7/dist-packages (1.1.1)\n"
          ]
        }
      ],
      "source": [
        "import pandas as pd\n",
        "import numpy as np\n",
        "import matplotlib.pyplot as plt\n",
        "import seaborn as sns\n",
        "import time as time\n",
        "\n",
        "import warnings\n",
        "warnings.filterwarnings('ignore')\n",
        "!pip3 install optunity"
      ]
    },
    {
      "cell_type": "code",
      "execution_count": null,
      "metadata": {
        "colab": {
          "base_uri": "https://localhost:8080/",
          "height": 300
        },
        "id": "bYLEIKT-NK4s",
        "outputId": "156be60a-4a9e-41a2-e289-edc19da725b8"
      },
      "outputs": [
        {
          "output_type": "execute_result",
          "data": {
            "text/plain": [
              "   ID  LIMIT_BAL  SEX  EDUCATION  MARRIAGE  AGE  PAY_0  PAY_2  PAY_3  PAY_4  \\\n",
              "0   1    20000.0    2          2         1   24      2      2     -1     -1   \n",
              "1   2   120000.0    2          2         2   26     -1      2      0      0   \n",
              "2   3    90000.0    2          2         2   34      0      0      0      0   \n",
              "3   4    50000.0    2          2         1   37      0      0      0      0   \n",
              "4   5    50000.0    1          2         1   57     -1      0     -1      0   \n",
              "\n",
              "   ...  BILL_AMT4  BILL_AMT5  BILL_AMT6  PAY_AMT1  PAY_AMT2  PAY_AMT3  \\\n",
              "0  ...        0.0        0.0        0.0       0.0     689.0       0.0   \n",
              "1  ...     3272.0     3455.0     3261.0       0.0    1000.0    1000.0   \n",
              "2  ...    14331.0    14948.0    15549.0    1518.0    1500.0    1000.0   \n",
              "3  ...    28314.0    28959.0    29547.0    2000.0    2019.0    1200.0   \n",
              "4  ...    20940.0    19146.0    19131.0    2000.0   36681.0   10000.0   \n",
              "\n",
              "   PAY_AMT4  PAY_AMT5  PAY_AMT6  default.payment.next.month  \n",
              "0       0.0       0.0       0.0                           1  \n",
              "1    1000.0       0.0    2000.0                           1  \n",
              "2    1000.0    1000.0    5000.0                           0  \n",
              "3    1100.0    1069.0    1000.0                           0  \n",
              "4    9000.0     689.0     679.0                           0  \n",
              "\n",
              "[5 rows x 25 columns]"
            ],
            "text/html": [
              "\n",
              "  <div id=\"df-be739da7-54bd-4279-a5a2-772c5c5e8867\">\n",
              "    <div class=\"colab-df-container\">\n",
              "      <div>\n",
              "<style scoped>\n",
              "    .dataframe tbody tr th:only-of-type {\n",
              "        vertical-align: middle;\n",
              "    }\n",
              "\n",
              "    .dataframe tbody tr th {\n",
              "        vertical-align: top;\n",
              "    }\n",
              "\n",
              "    .dataframe thead th {\n",
              "        text-align: right;\n",
              "    }\n",
              "</style>\n",
              "<table border=\"1\" class=\"dataframe\">\n",
              "  <thead>\n",
              "    <tr style=\"text-align: right;\">\n",
              "      <th></th>\n",
              "      <th>ID</th>\n",
              "      <th>LIMIT_BAL</th>\n",
              "      <th>SEX</th>\n",
              "      <th>EDUCATION</th>\n",
              "      <th>MARRIAGE</th>\n",
              "      <th>AGE</th>\n",
              "      <th>PAY_0</th>\n",
              "      <th>PAY_2</th>\n",
              "      <th>PAY_3</th>\n",
              "      <th>PAY_4</th>\n",
              "      <th>...</th>\n",
              "      <th>BILL_AMT4</th>\n",
              "      <th>BILL_AMT5</th>\n",
              "      <th>BILL_AMT6</th>\n",
              "      <th>PAY_AMT1</th>\n",
              "      <th>PAY_AMT2</th>\n",
              "      <th>PAY_AMT3</th>\n",
              "      <th>PAY_AMT4</th>\n",
              "      <th>PAY_AMT5</th>\n",
              "      <th>PAY_AMT6</th>\n",
              "      <th>default.payment.next.month</th>\n",
              "    </tr>\n",
              "  </thead>\n",
              "  <tbody>\n",
              "    <tr>\n",
              "      <th>0</th>\n",
              "      <td>1</td>\n",
              "      <td>20000.0</td>\n",
              "      <td>2</td>\n",
              "      <td>2</td>\n",
              "      <td>1</td>\n",
              "      <td>24</td>\n",
              "      <td>2</td>\n",
              "      <td>2</td>\n",
              "      <td>-1</td>\n",
              "      <td>-1</td>\n",
              "      <td>...</td>\n",
              "      <td>0.0</td>\n",
              "      <td>0.0</td>\n",
              "      <td>0.0</td>\n",
              "      <td>0.0</td>\n",
              "      <td>689.0</td>\n",
              "      <td>0.0</td>\n",
              "      <td>0.0</td>\n",
              "      <td>0.0</td>\n",
              "      <td>0.0</td>\n",
              "      <td>1</td>\n",
              "    </tr>\n",
              "    <tr>\n",
              "      <th>1</th>\n",
              "      <td>2</td>\n",
              "      <td>120000.0</td>\n",
              "      <td>2</td>\n",
              "      <td>2</td>\n",
              "      <td>2</td>\n",
              "      <td>26</td>\n",
              "      <td>-1</td>\n",
              "      <td>2</td>\n",
              "      <td>0</td>\n",
              "      <td>0</td>\n",
              "      <td>...</td>\n",
              "      <td>3272.0</td>\n",
              "      <td>3455.0</td>\n",
              "      <td>3261.0</td>\n",
              "      <td>0.0</td>\n",
              "      <td>1000.0</td>\n",
              "      <td>1000.0</td>\n",
              "      <td>1000.0</td>\n",
              "      <td>0.0</td>\n",
              "      <td>2000.0</td>\n",
              "      <td>1</td>\n",
              "    </tr>\n",
              "    <tr>\n",
              "      <th>2</th>\n",
              "      <td>3</td>\n",
              "      <td>90000.0</td>\n",
              "      <td>2</td>\n",
              "      <td>2</td>\n",
              "      <td>2</td>\n",
              "      <td>34</td>\n",
              "      <td>0</td>\n",
              "      <td>0</td>\n",
              "      <td>0</td>\n",
              "      <td>0</td>\n",
              "      <td>...</td>\n",
              "      <td>14331.0</td>\n",
              "      <td>14948.0</td>\n",
              "      <td>15549.0</td>\n",
              "      <td>1518.0</td>\n",
              "      <td>1500.0</td>\n",
              "      <td>1000.0</td>\n",
              "      <td>1000.0</td>\n",
              "      <td>1000.0</td>\n",
              "      <td>5000.0</td>\n",
              "      <td>0</td>\n",
              "    </tr>\n",
              "    <tr>\n",
              "      <th>3</th>\n",
              "      <td>4</td>\n",
              "      <td>50000.0</td>\n",
              "      <td>2</td>\n",
              "      <td>2</td>\n",
              "      <td>1</td>\n",
              "      <td>37</td>\n",
              "      <td>0</td>\n",
              "      <td>0</td>\n",
              "      <td>0</td>\n",
              "      <td>0</td>\n",
              "      <td>...</td>\n",
              "      <td>28314.0</td>\n",
              "      <td>28959.0</td>\n",
              "      <td>29547.0</td>\n",
              "      <td>2000.0</td>\n",
              "      <td>2019.0</td>\n",
              "      <td>1200.0</td>\n",
              "      <td>1100.0</td>\n",
              "      <td>1069.0</td>\n",
              "      <td>1000.0</td>\n",
              "      <td>0</td>\n",
              "    </tr>\n",
              "    <tr>\n",
              "      <th>4</th>\n",
              "      <td>5</td>\n",
              "      <td>50000.0</td>\n",
              "      <td>1</td>\n",
              "      <td>2</td>\n",
              "      <td>1</td>\n",
              "      <td>57</td>\n",
              "      <td>-1</td>\n",
              "      <td>0</td>\n",
              "      <td>-1</td>\n",
              "      <td>0</td>\n",
              "      <td>...</td>\n",
              "      <td>20940.0</td>\n",
              "      <td>19146.0</td>\n",
              "      <td>19131.0</td>\n",
              "      <td>2000.0</td>\n",
              "      <td>36681.0</td>\n",
              "      <td>10000.0</td>\n",
              "      <td>9000.0</td>\n",
              "      <td>689.0</td>\n",
              "      <td>679.0</td>\n",
              "      <td>0</td>\n",
              "    </tr>\n",
              "  </tbody>\n",
              "</table>\n",
              "<p>5 rows × 25 columns</p>\n",
              "</div>\n",
              "      <button class=\"colab-df-convert\" onclick=\"convertToInteractive('df-be739da7-54bd-4279-a5a2-772c5c5e8867')\"\n",
              "              title=\"Convert this dataframe to an interactive table.\"\n",
              "              style=\"display:none;\">\n",
              "        \n",
              "  <svg xmlns=\"http://www.w3.org/2000/svg\" height=\"24px\"viewBox=\"0 0 24 24\"\n",
              "       width=\"24px\">\n",
              "    <path d=\"M0 0h24v24H0V0z\" fill=\"none\"/>\n",
              "    <path d=\"M18.56 5.44l.94 2.06.94-2.06 2.06-.94-2.06-.94-.94-2.06-.94 2.06-2.06.94zm-11 1L8.5 8.5l.94-2.06 2.06-.94-2.06-.94L8.5 2.5l-.94 2.06-2.06.94zm10 10l.94 2.06.94-2.06 2.06-.94-2.06-.94-.94-2.06-.94 2.06-2.06.94z\"/><path d=\"M17.41 7.96l-1.37-1.37c-.4-.4-.92-.59-1.43-.59-.52 0-1.04.2-1.43.59L10.3 9.45l-7.72 7.72c-.78.78-.78 2.05 0 2.83L4 21.41c.39.39.9.59 1.41.59.51 0 1.02-.2 1.41-.59l7.78-7.78 2.81-2.81c.8-.78.8-2.07 0-2.86zM5.41 20L4 18.59l7.72-7.72 1.47 1.35L5.41 20z\"/>\n",
              "  </svg>\n",
              "      </button>\n",
              "      \n",
              "  <style>\n",
              "    .colab-df-container {\n",
              "      display:flex;\n",
              "      flex-wrap:wrap;\n",
              "      gap: 12px;\n",
              "    }\n",
              "\n",
              "    .colab-df-convert {\n",
              "      background-color: #E8F0FE;\n",
              "      border: none;\n",
              "      border-radius: 50%;\n",
              "      cursor: pointer;\n",
              "      display: none;\n",
              "      fill: #1967D2;\n",
              "      height: 32px;\n",
              "      padding: 0 0 0 0;\n",
              "      width: 32px;\n",
              "    }\n",
              "\n",
              "    .colab-df-convert:hover {\n",
              "      background-color: #E2EBFA;\n",
              "      box-shadow: 0px 1px 2px rgba(60, 64, 67, 0.3), 0px 1px 3px 1px rgba(60, 64, 67, 0.15);\n",
              "      fill: #174EA6;\n",
              "    }\n",
              "\n",
              "    [theme=dark] .colab-df-convert {\n",
              "      background-color: #3B4455;\n",
              "      fill: #D2E3FC;\n",
              "    }\n",
              "\n",
              "    [theme=dark] .colab-df-convert:hover {\n",
              "      background-color: #434B5C;\n",
              "      box-shadow: 0px 1px 3px 1px rgba(0, 0, 0, 0.15);\n",
              "      filter: drop-shadow(0px 1px 2px rgba(0, 0, 0, 0.3));\n",
              "      fill: #FFFFFF;\n",
              "    }\n",
              "  </style>\n",
              "\n",
              "      <script>\n",
              "        const buttonEl =\n",
              "          document.querySelector('#df-be739da7-54bd-4279-a5a2-772c5c5e8867 button.colab-df-convert');\n",
              "        buttonEl.style.display =\n",
              "          google.colab.kernel.accessAllowed ? 'block' : 'none';\n",
              "\n",
              "        async function convertToInteractive(key) {\n",
              "          const element = document.querySelector('#df-be739da7-54bd-4279-a5a2-772c5c5e8867');\n",
              "          const dataTable =\n",
              "            await google.colab.kernel.invokeFunction('convertToInteractive',\n",
              "                                                     [key], {});\n",
              "          if (!dataTable) return;\n",
              "\n",
              "          const docLinkHtml = 'Like what you see? Visit the ' +\n",
              "            '<a target=\"_blank\" href=https://colab.research.google.com/notebooks/data_table.ipynb>data table notebook</a>'\n",
              "            + ' to learn more about interactive tables.';\n",
              "          element.innerHTML = '';\n",
              "          dataTable['output_type'] = 'display_data';\n",
              "          await google.colab.output.renderOutput(dataTable, element);\n",
              "          const docLink = document.createElement('div');\n",
              "          docLink.innerHTML = docLinkHtml;\n",
              "          element.appendChild(docLink);\n",
              "        }\n",
              "      </script>\n",
              "    </div>\n",
              "  </div>\n",
              "  "
            ]
          },
          "metadata": {},
          "execution_count": 96
        }
      ],
      "source": [
        "data = pd.read_csv('https://raw.githubusercontent.com/hsuecu/data_set/main/uci_data.csv')\n",
        "data.head()"
      ]
    },
    {
      "cell_type": "code",
      "execution_count": null,
      "metadata": {
        "colab": {
          "base_uri": "https://localhost:8080/"
        },
        "id": "0sAm31JxNK4u",
        "outputId": "16bceb60-296f-4c5e-d83c-f1ad5bc1c7e1"
      },
      "outputs": [
        {
          "output_type": "stream",
          "name": "stdout",
          "text": [
            "<class 'pandas.core.frame.DataFrame'>\n",
            "RangeIndex: 30000 entries, 0 to 29999\n",
            "Data columns (total 25 columns):\n",
            " #   Column                      Non-Null Count  Dtype  \n",
            "---  ------                      --------------  -----  \n",
            " 0   ID                          30000 non-null  int64  \n",
            " 1   LIMIT_BAL                   30000 non-null  float64\n",
            " 2   SEX                         30000 non-null  int64  \n",
            " 3   EDUCATION                   30000 non-null  int64  \n",
            " 4   MARRIAGE                    30000 non-null  int64  \n",
            " 5   AGE                         30000 non-null  int64  \n",
            " 6   PAY_0                       30000 non-null  int64  \n",
            " 7   PAY_2                       30000 non-null  int64  \n",
            " 8   PAY_3                       30000 non-null  int64  \n",
            " 9   PAY_4                       30000 non-null  int64  \n",
            " 10  PAY_5                       30000 non-null  int64  \n",
            " 11  PAY_6                       30000 non-null  int64  \n",
            " 12  BILL_AMT1                   30000 non-null  float64\n",
            " 13  BILL_AMT2                   30000 non-null  float64\n",
            " 14  BILL_AMT3                   30000 non-null  float64\n",
            " 15  BILL_AMT4                   30000 non-null  float64\n",
            " 16  BILL_AMT5                   30000 non-null  float64\n",
            " 17  BILL_AMT6                   30000 non-null  float64\n",
            " 18  PAY_AMT1                    30000 non-null  float64\n",
            " 19  PAY_AMT2                    30000 non-null  float64\n",
            " 20  PAY_AMT3                    30000 non-null  float64\n",
            " 21  PAY_AMT4                    30000 non-null  float64\n",
            " 22  PAY_AMT5                    30000 non-null  float64\n",
            " 23  PAY_AMT6                    30000 non-null  float64\n",
            " 24  default.payment.next.month  30000 non-null  int64  \n",
            "dtypes: float64(13), int64(12)\n",
            "memory usage: 5.7 MB\n"
          ]
        }
      ],
      "source": [
        "data.info()"
      ]
    },
    {
      "cell_type": "code",
      "execution_count": null,
      "metadata": {
        "id": "rQDPREfCNK4u"
      },
      "outputs": [],
      "source": [
        "if __name__==\"__main__\":\n",
        "    for i in data.columns:\n",
        "        data[i].replace('?', np.NAN, inplace=True)"
      ]
    },
    {
      "cell_type": "code",
      "execution_count": null,
      "metadata": {
        "colab": {
          "base_uri": "https://localhost:8080/"
        },
        "id": "LZVzalGDNK4v",
        "outputId": "364a8ace-f3f2-48e3-c562-4a19e0ac857e"
      },
      "outputs": [
        {
          "output_type": "stream",
          "name": "stdout",
          "text": [
            "Useless row entries are:0.0%\n"
          ]
        }
      ],
      "source": [
        "if __name__==\"__main__\":\n",
        "    count = 0\n",
        "    for i in range(data.shape[0]):\n",
        "        for j in data.iloc[i].isna():\n",
        "            if j:\n",
        "                count += 1\n",
        "                break\n",
        "    print(f'Useless row entries are:{round(count/data.shape[0] * 100, 3)}%')"
      ]
    },
    {
      "cell_type": "code",
      "execution_count": null,
      "metadata": {
        "id": "ZXvTlPFONK4v"
      },
      "outputs": [],
      "source": [
        "data.drop(['ID'], axis=1, inplace=True)"
      ]
    },
    {
      "cell_type": "markdown",
      "metadata": {
        "id": "fWrQeKnYNK4w"
      },
      "source": [
        "# Base Case Establishment"
      ]
    },
    {
      "cell_type": "code",
      "execution_count": null,
      "metadata": {
        "colab": {
          "base_uri": "https://localhost:8080/"
        },
        "id": "GiYOngtvNK4w",
        "outputId": "c5d9166f-8d11-472b-f92f-a69f7176f59e"
      },
      "outputs": [
        {
          "output_type": "stream",
          "name": "stdout",
          "text": [
            "X is (30000, 23)\n",
            "Y is (30000,)\n"
          ]
        }
      ],
      "source": [
        "X = data.drop(['default.payment.next.month'], axis=1)\n",
        "y = data['default.payment.next.month']\n",
        "\n",
        "print(f'X is {X.shape}\\nY is {y.shape}')"
      ]
    },
    {
      "cell_type": "code",
      "execution_count": null,
      "metadata": {
        "id": "gWpjP_bLNK4w"
      },
      "outputs": [],
      "source": [
        "from sklearn.model_selection import train_test_split\n",
        "X_train, X_test, y_train, y_test = \\\n",
        "    train_test_split(X, y, train_size=0.7)"
      ]
    },
    {
      "cell_type": "code",
      "execution_count": null,
      "metadata": {
        "colab": {
          "base_uri": "https://localhost:8080/"
        },
        "id": "GDwhvJ7TNK4x",
        "outputId": "18a85eda-20b1-4080-f500-3f9fda5bf03c"
      },
      "outputs": [
        {
          "output_type": "stream",
          "name": "stdout",
          "text": [
            "X_train:(21000, 23)\n",
            "X_test:(9000, 23)\n",
            "y_train:(21000,)\n",
            "y_test:(9000,)\n"
          ]
        }
      ],
      "source": [
        "print(f'X_train:{X_train.shape}\\n\\\n",
        "X_test:{X_test.shape}\\n\\\n",
        "y_train:{y_train.shape}\\n\\\n",
        "y_test:{y_test.shape}')"
      ]
    },
    {
      "cell_type": "code",
      "execution_count": null,
      "metadata": {
        "id": "R3AuFqPCNK4x"
      },
      "outputs": [],
      "source": [
        "from sklearn.preprocessing import RobustScaler\n",
        "scaler=RobustScaler()\n",
        "\n",
        "col = X_train.columns\n",
        "X_train[col] = scaler.fit_transform(X_train[col])\n",
        "X_test[col] = scaler.transform(X_test[col])"
      ]
    },
    {
      "cell_type": "code",
      "execution_count": null,
      "metadata": {
        "colab": {
          "base_uri": "https://localhost:8080/",
          "height": 237
        },
        "id": "DqjT6WZPNK4x",
        "outputId": "7a4531e4-996a-4586-832e-aa9abb7305d6"
      },
      "outputs": [
        {
          "output_type": "execute_result",
          "data": {
            "text/plain": [
              "       LIMIT_BAL  SEX  EDUCATION  MARRIAGE       AGE  PAY_0  PAY_2  PAY_3  \\\n",
              "2137    0.842105  0.0        0.0      -1.0  0.142857    0.0    0.0    0.0   \n",
              "13692  -0.473684 -1.0       -1.0      -1.0  0.928571    0.0    0.0    0.0   \n",
              "13788   0.210526  0.0       -1.0       0.0 -0.642857    0.0    0.0    0.0   \n",
              "\n",
              "       PAY_4  PAY_5  ...  BILL_AMT3  BILL_AMT4  BILL_AMT5  BILL_AMT6  \\\n",
              "2137     0.0    0.0  ...   1.070167   1.798310  -0.092465  -0.136520   \n",
              "13692    0.0    0.0  ...   0.591253   0.670285   0.726932   0.754938   \n",
              "13788    0.0    0.0  ...   0.902269   0.931221   0.928303   0.863076   \n",
              "\n",
              "       PAY_AMT1  PAY_AMT2  PAY_AMT3  PAY_AMT4  PAY_AMT5  PAY_AMT6  \n",
              "2137   0.968283  0.710979  6.901453  0.137163 -0.170033 -0.125480  \n",
              "13692  0.159642  0.157389 -0.021308  0.070326  0.104026  0.043534  \n",
              "13788  0.347589  0.354896  0.290557  0.402631  0.211221  0.230474  \n",
              "\n",
              "[3 rows x 23 columns]"
            ],
            "text/html": [
              "\n",
              "  <div id=\"df-b34b22a8-801f-4ae6-8081-13c129bce8f9\">\n",
              "    <div class=\"colab-df-container\">\n",
              "      <div>\n",
              "<style scoped>\n",
              "    .dataframe tbody tr th:only-of-type {\n",
              "        vertical-align: middle;\n",
              "    }\n",
              "\n",
              "    .dataframe tbody tr th {\n",
              "        vertical-align: top;\n",
              "    }\n",
              "\n",
              "    .dataframe thead th {\n",
              "        text-align: right;\n",
              "    }\n",
              "</style>\n",
              "<table border=\"1\" class=\"dataframe\">\n",
              "  <thead>\n",
              "    <tr style=\"text-align: right;\">\n",
              "      <th></th>\n",
              "      <th>LIMIT_BAL</th>\n",
              "      <th>SEX</th>\n",
              "      <th>EDUCATION</th>\n",
              "      <th>MARRIAGE</th>\n",
              "      <th>AGE</th>\n",
              "      <th>PAY_0</th>\n",
              "      <th>PAY_2</th>\n",
              "      <th>PAY_3</th>\n",
              "      <th>PAY_4</th>\n",
              "      <th>PAY_5</th>\n",
              "      <th>...</th>\n",
              "      <th>BILL_AMT3</th>\n",
              "      <th>BILL_AMT4</th>\n",
              "      <th>BILL_AMT5</th>\n",
              "      <th>BILL_AMT6</th>\n",
              "      <th>PAY_AMT1</th>\n",
              "      <th>PAY_AMT2</th>\n",
              "      <th>PAY_AMT3</th>\n",
              "      <th>PAY_AMT4</th>\n",
              "      <th>PAY_AMT5</th>\n",
              "      <th>PAY_AMT6</th>\n",
              "    </tr>\n",
              "  </thead>\n",
              "  <tbody>\n",
              "    <tr>\n",
              "      <th>2137</th>\n",
              "      <td>0.842105</td>\n",
              "      <td>0.0</td>\n",
              "      <td>0.0</td>\n",
              "      <td>-1.0</td>\n",
              "      <td>0.142857</td>\n",
              "      <td>0.0</td>\n",
              "      <td>0.0</td>\n",
              "      <td>0.0</td>\n",
              "      <td>0.0</td>\n",
              "      <td>0.0</td>\n",
              "      <td>...</td>\n",
              "      <td>1.070167</td>\n",
              "      <td>1.798310</td>\n",
              "      <td>-0.092465</td>\n",
              "      <td>-0.136520</td>\n",
              "      <td>0.968283</td>\n",
              "      <td>0.710979</td>\n",
              "      <td>6.901453</td>\n",
              "      <td>0.137163</td>\n",
              "      <td>-0.170033</td>\n",
              "      <td>-0.125480</td>\n",
              "    </tr>\n",
              "    <tr>\n",
              "      <th>13692</th>\n",
              "      <td>-0.473684</td>\n",
              "      <td>-1.0</td>\n",
              "      <td>-1.0</td>\n",
              "      <td>-1.0</td>\n",
              "      <td>0.928571</td>\n",
              "      <td>0.0</td>\n",
              "      <td>0.0</td>\n",
              "      <td>0.0</td>\n",
              "      <td>0.0</td>\n",
              "      <td>0.0</td>\n",
              "      <td>...</td>\n",
              "      <td>0.591253</td>\n",
              "      <td>0.670285</td>\n",
              "      <td>0.726932</td>\n",
              "      <td>0.754938</td>\n",
              "      <td>0.159642</td>\n",
              "      <td>0.157389</td>\n",
              "      <td>-0.021308</td>\n",
              "      <td>0.070326</td>\n",
              "      <td>0.104026</td>\n",
              "      <td>0.043534</td>\n",
              "    </tr>\n",
              "    <tr>\n",
              "      <th>13788</th>\n",
              "      <td>0.210526</td>\n",
              "      <td>0.0</td>\n",
              "      <td>-1.0</td>\n",
              "      <td>0.0</td>\n",
              "      <td>-0.642857</td>\n",
              "      <td>0.0</td>\n",
              "      <td>0.0</td>\n",
              "      <td>0.0</td>\n",
              "      <td>0.0</td>\n",
              "      <td>0.0</td>\n",
              "      <td>...</td>\n",
              "      <td>0.902269</td>\n",
              "      <td>0.931221</td>\n",
              "      <td>0.928303</td>\n",
              "      <td>0.863076</td>\n",
              "      <td>0.347589</td>\n",
              "      <td>0.354896</td>\n",
              "      <td>0.290557</td>\n",
              "      <td>0.402631</td>\n",
              "      <td>0.211221</td>\n",
              "      <td>0.230474</td>\n",
              "    </tr>\n",
              "  </tbody>\n",
              "</table>\n",
              "<p>3 rows × 23 columns</p>\n",
              "</div>\n",
              "      <button class=\"colab-df-convert\" onclick=\"convertToInteractive('df-b34b22a8-801f-4ae6-8081-13c129bce8f9')\"\n",
              "              title=\"Convert this dataframe to an interactive table.\"\n",
              "              style=\"display:none;\">\n",
              "        \n",
              "  <svg xmlns=\"http://www.w3.org/2000/svg\" height=\"24px\"viewBox=\"0 0 24 24\"\n",
              "       width=\"24px\">\n",
              "    <path d=\"M0 0h24v24H0V0z\" fill=\"none\"/>\n",
              "    <path d=\"M18.56 5.44l.94 2.06.94-2.06 2.06-.94-2.06-.94-.94-2.06-.94 2.06-2.06.94zm-11 1L8.5 8.5l.94-2.06 2.06-.94-2.06-.94L8.5 2.5l-.94 2.06-2.06.94zm10 10l.94 2.06.94-2.06 2.06-.94-2.06-.94-.94-2.06-.94 2.06-2.06.94z\"/><path d=\"M17.41 7.96l-1.37-1.37c-.4-.4-.92-.59-1.43-.59-.52 0-1.04.2-1.43.59L10.3 9.45l-7.72 7.72c-.78.78-.78 2.05 0 2.83L4 21.41c.39.39.9.59 1.41.59.51 0 1.02-.2 1.41-.59l7.78-7.78 2.81-2.81c.8-.78.8-2.07 0-2.86zM5.41 20L4 18.59l7.72-7.72 1.47 1.35L5.41 20z\"/>\n",
              "  </svg>\n",
              "      </button>\n",
              "      \n",
              "  <style>\n",
              "    .colab-df-container {\n",
              "      display:flex;\n",
              "      flex-wrap:wrap;\n",
              "      gap: 12px;\n",
              "    }\n",
              "\n",
              "    .colab-df-convert {\n",
              "      background-color: #E8F0FE;\n",
              "      border: none;\n",
              "      border-radius: 50%;\n",
              "      cursor: pointer;\n",
              "      display: none;\n",
              "      fill: #1967D2;\n",
              "      height: 32px;\n",
              "      padding: 0 0 0 0;\n",
              "      width: 32px;\n",
              "    }\n",
              "\n",
              "    .colab-df-convert:hover {\n",
              "      background-color: #E2EBFA;\n",
              "      box-shadow: 0px 1px 2px rgba(60, 64, 67, 0.3), 0px 1px 3px 1px rgba(60, 64, 67, 0.15);\n",
              "      fill: #174EA6;\n",
              "    }\n",
              "\n",
              "    [theme=dark] .colab-df-convert {\n",
              "      background-color: #3B4455;\n",
              "      fill: #D2E3FC;\n",
              "    }\n",
              "\n",
              "    [theme=dark] .colab-df-convert:hover {\n",
              "      background-color: #434B5C;\n",
              "      box-shadow: 0px 1px 3px 1px rgba(0, 0, 0, 0.15);\n",
              "      filter: drop-shadow(0px 1px 2px rgba(0, 0, 0, 0.3));\n",
              "      fill: #FFFFFF;\n",
              "    }\n",
              "  </style>\n",
              "\n",
              "      <script>\n",
              "        const buttonEl =\n",
              "          document.querySelector('#df-b34b22a8-801f-4ae6-8081-13c129bce8f9 button.colab-df-convert');\n",
              "        buttonEl.style.display =\n",
              "          google.colab.kernel.accessAllowed ? 'block' : 'none';\n",
              "\n",
              "        async function convertToInteractive(key) {\n",
              "          const element = document.querySelector('#df-b34b22a8-801f-4ae6-8081-13c129bce8f9');\n",
              "          const dataTable =\n",
              "            await google.colab.kernel.invokeFunction('convertToInteractive',\n",
              "                                                     [key], {});\n",
              "          if (!dataTable) return;\n",
              "\n",
              "          const docLinkHtml = 'Like what you see? Visit the ' +\n",
              "            '<a target=\"_blank\" href=https://colab.research.google.com/notebooks/data_table.ipynb>data table notebook</a>'\n",
              "            + ' to learn more about interactive tables.';\n",
              "          element.innerHTML = '';\n",
              "          dataTable['output_type'] = 'display_data';\n",
              "          await google.colab.output.renderOutput(dataTable, element);\n",
              "          const docLink = document.createElement('div');\n",
              "          docLink.innerHTML = docLinkHtml;\n",
              "          element.appendChild(docLink);\n",
              "        }\n",
              "      </script>\n",
              "    </div>\n",
              "  </div>\n",
              "  "
            ]
          },
          "metadata": {},
          "execution_count": 105
        }
      ],
      "source": [
        "X_train.head(3)"
      ]
    },
    {
      "cell_type": "code",
      "execution_count": null,
      "metadata": {
        "id": "l1DkbqgKNK4y"
      },
      "outputs": [],
      "source": [
        "from sklearn.model_selection import cross_validate\n",
        "from sklearn.metrics import accuracy_score, recall_score, precision_score,\\\n",
        "f1_score, average_precision_score\n",
        "from sklearn.model_selection import StratifiedKFold"
      ]
    },
    {
      "cell_type": "code",
      "execution_count": null,
      "metadata": {
        "id": "bzGOYT-DNK4y"
      },
      "outputs": [],
      "source": [
        "def analyse(model, xtrain, ytrain, xtest, ytest):\n",
        "    model.fit(xtrain, ytrain)\n",
        "    sk = StratifiedKFold(5, shuffle=True, random_state=0)\n",
        "    sf_scorer = cross_validate(model, xtrain, ytrain, \n",
        "                 scoring=['roc_auc', 'accuracy', 'precision', 'recall', 'f1'],\n",
        "                 cv=sk)\n",
        "    accuracy = sf_scorer['test_accuracy'].mean()\n",
        "    recall = sf_scorer['test_recall'].mean()\n",
        "    precision = sf_scorer['test_precision'].mean()\n",
        "    roc_auc = sf_scorer['test_roc_auc'].mean()\n",
        "    f1score = sf_scorer['test_f1'].mean()\n",
        "    try:\n",
        "        y_score_test = model.decision_function(xtest)\n",
        "        y_score_train = model.decision_function(xtrain)\n",
        "    except:\n",
        "        y_score_test = model.predict_proba(xtest)[:,1]\n",
        "        y_score_train = model.predict_proba(xtrain)[:,1]\n",
        "    ypred = model.predict(xtest)\n",
        "    ret = {'train':{'pr auc': average_precision_score(ytrain, y_score_train),\n",
        "                'accuracy': accuracy,\n",
        "                'recall':recall,\n",
        "                'precision':precision,\n",
        "                'roc auc':roc_auc,\n",
        "                'f1 score': f1score},\n",
        "           'test':{'pr auc': average_precision_score(ytest, y_score_test),\n",
        "                'accuracy':accuracy_score(ytest, ypred),\n",
        "                'recall':recall_score(ytest, ypred),\n",
        "                'precision':precision_score(ytest, ypred),\n",
        "                'roc auc':roc_auc_score(ytest, y_score_test),\n",
        "                'f1 score': f1_score(ytest, ypred)}}\n",
        "    return ret"
      ]
    },
    {
      "cell_type": "code",
      "execution_count": null,
      "metadata": {
        "id": "lpxJGSdsNK4z"
      },
      "outputs": [],
      "source": [
        "from sklearn.metrics import accuracy_score, recall_score, precision_score, roc_auc_score, f1_score, auc, precision_recall_curve\n",
        "\n",
        "def analyseANN(ANNmodel, model, xtrain, ytrain, xtest, ytest):\n",
        "    \n",
        "    ypred =  model.predict(xtrain)\n",
        "    ypred_test = model.predict(xtest)\n",
        "    precision_train, recall_train, thresholds = precision_recall_curve(ytrain, ypred)\n",
        "    precision_test, recall_test, thresholds = precision_recall_curve(y_test, ypred_test)\n",
        "\n",
        "    for i in range(len(ypred)):\n",
        "        if ypred[i] <=0.5:\n",
        "            ypred[i] =0\n",
        "        else: \n",
        "            ypred[i] =1\n",
        "    for i in range(len(ypred_test)):\n",
        "        if ypred_test[i] <=0.5:\n",
        "            ypred_test[i] =0\n",
        "        else: \n",
        "            ypred_test[i] =1\n",
        "    \n",
        "    #ypred = y_pred_prob.where(y_pred_prob<0.5,0,1 ) \n",
        "    accuracy = accuracy_score(ytrain, ypred)\n",
        "    recall = recall_score(ytrain, ypred)\n",
        "    precision = precision_score(ytrain, ypred)\n",
        "    roc_auc = roc_auc_score(ytrain, ypred)\n",
        "    f1score = f1_score(ytrain, ypred)\n",
        "\n",
        "    ret = {'train':{'pr auc': auc(recall_train, precision_train),\n",
        "                    'accuracy': accuracy,\n",
        "                    'recall':recall,\n",
        "                    'precision':precision,\n",
        "                    'roc auc':roc_auc,\n",
        "                    'f1 score': f1score},\n",
        "               'test':{'pr auc': auc(recall_test, precision_test),\n",
        "                    'accuracy':accuracy_score(ytest, ypred_test),\n",
        "                    'recall':recall_score(ytest, ypred_test),\n",
        "                    'precision':precision_score(ytest, ypred_test),\n",
        "                    'roc auc':roc_auc_score(ytest, ypred_test),\n",
        "                    'f1 score': f1_score(ytest, ypred_test)}}\n",
        "    \n",
        "    history_df = pd.DataFrame(ANNmodel.history)\n",
        "    history_df.loc[:, ['loss', 'val_loss']].plot()\n",
        "    history_df.loc[:, ['binary_accuracy', 'val_binary_accuracy']].plot()\n",
        "    plt.ylim(0.5, 1)\n",
        "    return ret"
      ]
    },
    {
      "cell_type": "markdown",
      "metadata": {
        "id": "-2dUpB39NK40"
      },
      "source": [
        "# BASE CASE"
      ]
    },
    {
      "cell_type": "code",
      "execution_count": null,
      "metadata": {
        "colab": {
          "base_uri": "https://localhost:8080/"
        },
        "id": "BT9hQIiDNK41",
        "outputId": "d2403787-401a-4e5e-f849-8026840ceb3d"
      },
      "outputs": [
        {
          "output_type": "stream",
          "name": "stdout",
          "text": [
            "{\n",
            "  \"train\": {\n",
            "    \"pr auc\": 0.5014275026169067,\n",
            "    \"accuracy\": 0.8103809523809524,\n",
            "    \"recall\": 0.23722426812483724,\n",
            "    \"precision\": 0.7123464820254533,\n",
            "    \"roc auc\": 0.7193805439579442,\n",
            "    \"f1 score\": 0.3558714924118692\n",
            "  },\n",
            "  \"test\": {\n",
            "    \"pr auc\": 0.5090522131601938,\n",
            "    \"accuracy\": 0.8092222222222222,\n",
            "    \"recall\": 0.23461730865432717,\n",
            "    \"precision\": 0.7149390243902439,\n",
            "    \"roc auc\": 0.7315065903184416,\n",
            "    \"f1 score\": 0.35329566854990585\n",
            "  }\n",
            "}\n"
          ]
        }
      ],
      "source": [
        "##                     ##\n",
        "## LOGISTIC REGRESSION ##\n",
        "##                     ##\n",
        "\n",
        "from sklearn.linear_model import LogisticRegression\n",
        "import json\n",
        "lr = LogisticRegression(random_state=42)\n",
        "\n",
        "print(json.dumps(analyse(lr, X_train, y_train, X_test, y_test), indent=2))"
      ]
    },
    {
      "cell_type": "code",
      "execution_count": null,
      "metadata": {
        "colab": {
          "base_uri": "https://localhost:8080/"
        },
        "id": "VLrrIxauNK41",
        "outputId": "4baec889-9b00-43b3-9743-aed21b798d8e"
      },
      "outputs": [
        {
          "output_type": "stream",
          "name": "stdout",
          "text": [
            "{\n",
            "  \"train\": {\n",
            "    \"pr auc\": 0.54690257055226,\n",
            "    \"accuracy\": 0.810142857142857,\n",
            "    \"recall\": 0.24951130826172677,\n",
            "    \"precision\": 0.6956366639403692,\n",
            "    \"roc auc\": 0.7699053325915541,\n",
            "    \"f1 score\": 0.36718056071066274\n",
            "  },\n",
            "  \"test\": {\n",
            "    \"pr auc\": 0.5484591980289313,\n",
            "    \"accuracy\": 0.8085555555555556,\n",
            "    \"recall\": 0.23561780890445222,\n",
            "    \"precision\": 0.7072072072072072,\n",
            "    \"roc auc\": 0.7723268861969907,\n",
            "    \"f1 score\": 0.3534709193245779\n",
            "  }\n",
            "}\n"
          ]
        }
      ],
      "source": [
        "##                          ##\n",
        "## RANDOM FOREST CLASSIFIER ##\n",
        "##                          ##\n",
        "\n",
        "from sklearn.ensemble import RandomForestClassifier\n",
        "\n",
        "rforest = RandomForestClassifier(max_depth=3, random_state=42);\n",
        "\n",
        "print(json.dumps(analyse(rforest, X_train, y_train, X_test, y_test), indent=2))"
      ]
    },
    {
      "cell_type": "code",
      "execution_count": null,
      "metadata": {
        "id": "ahhDSOFbNK42"
      },
      "outputs": [],
      "source": [
        "##                ##\n",
        "## ANN CLASSIFIER ##\n",
        "##                ##\n",
        "\n",
        "\n",
        "from tensorflow.keras import Sequential\n",
        "from tensorflow.keras.layers import Dense, BatchNormalization, Dropout\n",
        "from tensorflow.keras.optimizers import Adam\n",
        "from keras.callbacks import EarlyStopping\n",
        "from keras.wrappers.scikit_learn import KerasClassifier\n",
        "\n",
        "def create_ann(dense_layers, dense_nodes, learning_rate, dropout_rate):\n",
        "    ann = Sequential()\n",
        "    ann.add(Dense(units = dense_nodes, activation='relu', input_shape=[(X_train.shape[1])]))\n",
        "    ann.add(Dropout(dropout_rate))\n",
        "    ann.add(BatchNormalization())\n",
        "\n",
        "    for i in range(dense_layers):\n",
        "        ann.add(Dense(units = dense_nodes, activation='relu'))\n",
        "        ann.add(Dropout(dropout_rate))\n",
        "        ann.add(BatchNormalization())\n",
        "    \n",
        "    ann.add(Dense(units = 1, activation='sigmoid')) \n",
        "    ann.compile(loss='binary_crossentropy', optimizer=Adam(learning_rate=learning_rate), metrics=['binary_accuracy'])\n",
        "    return ann\n",
        "\n",
        "def Model(dense_layers, dense_nodes, learning_rate, dropout_rate, batch_size):\n",
        "    ann = create_ann(dense_layers, dense_nodes, learning_rate, dropout_rate)\n",
        "    es = EarlyStopping(min_delta=0.01, patience=10)\n",
        "    classifier = ann.fit(X_train, y_train, validation_data=(X_test, y_test), batch_size=batch_size,\n",
        "                                     epochs=100, verbose=0,callbacks = es)\n",
        "    return classifier, ann"
      ]
    },
    {
      "cell_type": "code",
      "execution_count": null,
      "metadata": {
        "colab": {
          "base_uri": "https://localhost:8080/",
          "height": 538
        },
        "id": "AeXL3VDDNK43",
        "outputId": "74eb9b48-d50b-4ef7-f71e-f2efe89a5631"
      },
      "outputs": [
        {
          "output_type": "stream",
          "name": "stdout",
          "text": [
            "running for: 7m, 32s\n"
          ]
        },
        {
          "output_type": "display_data",
          "data": {
            "text/plain": [
              "<Figure size 432x288 with 1 Axes>"
            ],
            "image/png": "[encoded data removed]"
          },
          "metadata": {
            "needs_background": "light"
          }
        },
        {
          "output_type": "display_data",
          "data": {
            "text/plain": [
              "<Figure size 432x288 with 1 Axes>"
            ],
            "image/png": "[encoded data removed]"
          },
          "metadata": {
            "needs_background": "light"
          }
        }
      ],
      "source": [
        "_start = time.time()\n",
        "\n",
        "ANNmodel , model= Model(dense_layers =5 , dense_nodes = 1024, learning_rate = 0.0001, dropout_rate = 0.3, batch_size = 1000)\n",
        "analyseANN(ANNmodel, model, X_train, y_train, X_test, y_test)\n",
        "\n",
        "_end = time.time()\n",
        "\n",
        "print(f'running for: {int((_end-_start)/60)}m, {int((_end-_start)%60)}s')"
      ]
    },
    {
      "cell_type": "markdown",
      "metadata": {
        "id": "QDD9cA8QNK44"
      },
      "source": [
        "# PSO OPTIMIZED"
      ]
    },
    {
      "cell_type": "code",
      "execution_count": null,
      "metadata": {
        "id": "DXGyE1BaNK44"
      },
      "outputs": [],
      "source": [
        "import optunity\n",
        "import optunity.metrics\n",
        "from bisect import bisect\n",
        "from sklearn.model_selection import cross_val_score"
      ]
    },
    {
      "cell_type": "code",
      "execution_count": null,
      "metadata": {
        "id": "n5isOwbrNK44"
      },
      "outputs": [],
      "source": [
        "from optunity.solvers.util import score\n",
        "##                     ##\n",
        "## LOGISTIC REGRESSION ##\n",
        "##                     ##\n",
        "\n",
        "search = {\n",
        "    'penalty':[0, 1], # none l1 l2 elasticnet\n",
        "    'tol': [0, 10], # tolerance for stopping\n",
        "    'C': [0.1, 40], # inverse of regularization strength\n",
        "    'intercept_scaling': [1, 50], #to lessen the effect of regularization\n",
        "                                  #on synthetic feature weight this must be increased\n",
        "    'l1_ratio':[0, 1]\n",
        "}\n",
        "\n",
        "data = X.values.tolist()\n",
        "labels = y.values.tolist()\n",
        "\n",
        "@optunity.cross_validated(x=data, y=labels, num_folds=3)\n",
        "\n",
        "def performance_lr(x_train, y_train, x_test, y_test,\n",
        "                  penalty=None, tol=None, C=None,\n",
        "                  intercept_scaling=None, l1_ratio=None):\n",
        "    def mapper(f, breakpoint=[], cat=[]):\n",
        "        return cat[bisect(breakpoint, f)]\n",
        "    \n",
        "    penalty=mapper(penalty, breakpoint=[0.25, 0.5, 0.75],\n",
        "                   cat=['none', 'l1', 'l2', 'elasticnet'])\n",
        "    \n",
        "    model = LogisticRegression(penalty=penalty, tol=tol, C=C,\n",
        "                               intercept_scaling=intercept_scaling, l1_ratio=l1_ratio,\n",
        "                               solver='saga', n_jobs=-1, random_state=42)\n",
        "    \n",
        "    scores = np.mean(cross_val_score(model, X, y, cv=3, n_jobs=-1,\n",
        "                                    scoring='roc_auc'))\n",
        "    return scores"
      ]
    },
    {
      "cell_type": "code",
      "execution_count": null,
      "metadata": {
        "colab": {
          "base_uri": "https://localhost:8080/"
        },
        "id": "WRTX0c9wNK45",
        "outputId": "50055fb3-5237-48fa-99b6-29b3e6cdcd04"
      },
      "outputs": [
        {
          "output_type": "stream",
          "name": "stdout",
          "text": [
            "running for: 0m, 43s\n"
          ]
        }
      ],
      "source": [
        "_start = time.time()\n",
        "\n",
        "optimal_confg, info, _ = optunity.maximize(performance_lr,\n",
        "                                           solver_name='particle swarm',\n",
        "                                           num_evals=50,\n",
        "                                           **search)\n",
        "\n",
        "_end = time.time()\n",
        "\n",
        "print(f'running for: {int((_end-_start)/60)}m, {int((_end-_start)%60)}s')"
      ]
    },
    {
      "cell_type": "code",
      "execution_count": null,
      "metadata": {
        "collapsed": true,
        "id": "7RX9O4LrNK45"
      },
      "outputs": [],
      "source": [
        "def mapper(f, breakpoint=[], cat=[]):\n",
        "        return cat[bisect(breakpoint, f)]\n",
        "\n",
        "optimal_config_format = optimal_confg\n",
        "optimal_config_format['penalty'] = mapper(optimal_config_format['penalty'],\n",
        "                                          breakpoint=[0.25, 0.5, 0.75],\n",
        "                                          cat=['none', 'l1', 'l2', 'elasticnet'])"
      ]
    },
    {
      "cell_type": "code",
      "execution_count": null,
      "metadata": {
        "colab": {
          "base_uri": "https://localhost:8080/"
        },
        "id": "deuoYkCLNK45",
        "outputId": "eb7d9c56-201a-4034-9bba-cb969a7dd033"
      },
      "outputs": [
        {
          "output_type": "stream",
          "name": "stdout",
          "text": [
            "{\n",
            "  \"penalty\": \"elasticnet\",\n",
            "  \"tol\": 0.12265624999999991,\n",
            "  \"C\": 16.17533593750001,\n",
            "  \"intercept_scaling\": 21.888108515751707,\n",
            "  \"l1_ratio\": 0.1410192374266103\n",
            "}\n",
            "0.6391167765403445\n"
          ]
        }
      ],
      "source": [
        "print(json.dumps(optimal_config_format, indent=2))\n",
        "print(info.optimum)"
      ]
    },
    {
      "cell_type": "code",
      "source": [
        "final_lr_model = LogisticRegression(solver='saga',penalty='elasticnet', tol=0.12265624999999991, C=16.175335937500001, intercept_scaling=21.888108515751707, l1_ratio=0.1410192374266103)\n",
        "print(json.dumps(analyse(final_lr_model, X_train, y_train, X_test, y_test), indent=2))"
      ],
      "metadata": {
        "colab": {
          "base_uri": "https://localhost:8080/"
        },
        "id": "sGl5at-Bpcvl",
        "outputId": "582108f0-258c-4973-e9ba-5f3ab8400b51"
      },
      "execution_count": null,
      "outputs": [
        {
          "output_type": "stream",
          "name": "stdout",
          "text": [
            "{\n",
            "  \"train\": {\n",
            "    \"pr auc\": 0.44985807233557834,\n",
            "    \"accuracy\": 0.7957619047619048,\n",
            "    \"recall\": 0.34353797009262366,\n",
            "    \"precision\": 0.5613555068613455,\n",
            "    \"roc auc\": 0.690772041741399,\n",
            "    \"f1 score\": 0.42615274291990185\n",
            "  },\n",
            "  \"test\": {\n",
            "    \"pr auc\": 0.45518431931352626,\n",
            "    \"accuracy\": 0.7977777777777778,\n",
            "    \"recall\": 0.3486743371685843,\n",
            "    \"precision\": 0.5736625514403292,\n",
            "    \"roc auc\": 0.6987183779005629,\n",
            "    \"f1 score\": 0.4337274424393279\n",
            "  }\n",
            "}\n"
          ]
        }
      ]
    },
    {
      "cell_type": "code",
      "source": [
        "##                          ##\n",
        "## RANDOM FOREST CLASSIFIER ##\n",
        "##                          ##\n",
        "\n",
        "search = {\n",
        "    'n_estimators': [10, 100],\n",
        "    'criterion':[0, 1],\n",
        "    'max_depth':[3, 10],\n",
        "    'max_leaf_nodes':[1, 100],\n",
        "    'max_features':[0, 1],\n",
        "    'min_weight_fraction_leaf':[0, 0.5]\n",
        "}\n",
        "\n",
        "data = X.values.tolist()\n",
        "labels = y.values.tolist()\n",
        "\n",
        "@optunity.cross_validated(x=data, y=labels, num_folds=3)\n",
        "\n",
        "def performance_rf(x_train, y_train, x_test, y_test,\n",
        "                  n_estimators=None,\n",
        "                  criterion=None,\n",
        "                  max_depth=None,\n",
        "                  max_leaf_nodes=None,\n",
        "                  max_features=None,\n",
        "                  min_weight_fraction_leaf=None):\n",
        "    def mapper(f, breakpoint=[], cat=[]):\n",
        "        return cat[bisect(breakpoint, f)]\n",
        "    \n",
        "    criterion=mapper(criterion, breakpoint=[0.5],\n",
        "                    cat=['gini', 'entropy'])\n",
        "    max_features=mapper(max_features, breakpoint=[0.33, 0.66],\n",
        "                       cat=['sqrt', 'log2', None])\n",
        "    \n",
        "    model=RandomForestClassifier(n_estimators=int(n_estimators),\n",
        "                                criterion=criterion,\n",
        "                                max_depth=max_depth,\n",
        "                                max_leaf_nodes=int(max_leaf_nodes),\n",
        "                                max_features=max_features,\n",
        "                                min_weight_fraction_leaf=min_weight_fraction_leaf,\n",
        "                                n_jobs=-1,\n",
        "                                random_state=42)\n",
        "    scores=np.mean(cross_val_score(model, X, y, cv=3, n_jobs=-1,\n",
        "                                    scoring='roc_auc', error_score='raise'))\n",
        "    return scores"
      ],
      "metadata": {
        "id": "Q0vUX-9RSdOX"
      },
      "execution_count": null,
      "outputs": []
    },
    {
      "cell_type": "code",
      "source": [
        "_start = time.time()\n",
        "\n",
        "optimal_confg, info, _ = optunity.maximize(performance_rf,\n",
        "                                           solver_name='particle swarm',\n",
        "                                           num_evals=50,\n",
        "                                           **search)\n",
        "\n",
        "_end = time.time()\n",
        "\n",
        "print(f'running for: {int((_end-_start)/60)}m, {int((_end-_start)%60)}s')"
      ],
      "metadata": {
        "colab": {
          "base_uri": "https://localhost:8080/"
        },
        "id": "HuiaU5pWa13T",
        "outputId": "1dd68d19-2110-4b67-cf46-6c8bbcd9a496"
      },
      "execution_count": null,
      "outputs": [
        {
          "output_type": "stream",
          "name": "stdout",
          "text": [
            "running for: 4m, 51s\n"
          ]
        }
      ]
    },
    {
      "cell_type": "code",
      "source": [
        "def mapper(f, breakpoint=[], cat=[]):\n",
        "        return cat[bisect(breakpoint, f)]\n",
        "\n",
        "optimal_config_format = optimal_confg.copy()\n",
        "optimal_config_format['criterion'] = mapper(optimal_config_format['criterion'],\n",
        "                                          breakpoint=[0.5],\n",
        "                                          cat=['gini', 'entropy'])\n",
        "\n",
        "optimal_config_format['max_features'] = mapper(optimal_config_format['max_features'],\n",
        "                                         breakpoint=[0.33, 0.66],\n",
        "                                         cat=['sqrt', 'log2', None])"
      ],
      "metadata": {
        "id": "_YZ6pAKBa4kM"
      },
      "execution_count": null,
      "outputs": []
    },
    {
      "cell_type": "code",
      "source": [
        "print(json.dumps(optimal_config_format, indent=2))\n",
        "print(f'best cv_score:{info.optimum}')"
      ],
      "metadata": {
        "colab": {
          "base_uri": "https://localhost:8080/"
        },
        "id": "dzX4bTfYbTC3",
        "outputId": "f83368e2-4e76-4261-af4d-c4aa9d4f3b3a"
      },
      "execution_count": null,
      "outputs": [
        {
          "output_type": "stream",
          "name": "stdout",
          "text": [
            "{\n",
            "  \"n_estimators\": 25.589904107204177,\n",
            "  \"criterion\": \"entropy\",\n",
            "  \"max_depth\": 6.093808593749999,\n",
            "  \"max_leaf_nodes\": 59.446132705125024,\n",
            "  \"max_features\": \"log2\",\n",
            "  \"min_weight_fraction_leaf\": 0.028037109375000008\n",
            "}\n",
            "best cv_score:0.7746569795017016\n"
          ]
        }
      ]
    },
    {
      "cell_type": "code",
      "source": [
        "optimal_config_format['n_estimators'] = int(optimal_config_format['n_estimators'])\n",
        "optimal_config_format['max_leaf_nodes'] = int(optimal_config_format['max_leaf_nodes'])\n",
        "\n",
        "\n",
        "final_rf = RandomForestClassifier(n_jobs=-1,random_state=42,**optimal_config_format)"
      ],
      "metadata": {
        "id": "w5oyBO73bWCK"
      },
      "execution_count": null,
      "outputs": []
    },
    {
      "cell_type": "code",
      "source": [
        "print(json.dumps(analyse(final_rf, X_train, y_train, X_test, y_test), indent=2))"
      ],
      "metadata": {
        "colab": {
          "base_uri": "https://localhost:8080/"
        },
        "id": "ax0bw5pUt9Sc",
        "outputId": "eb58ea2c-1e27-4a09-d847-82568a27f655"
      },
      "execution_count": null,
      "outputs": [
        {
          "output_type": "stream",
          "name": "stdout",
          "text": [
            "{\n",
            "  \"train\": {\n",
            "    \"pr auc\": 0.5462240278546093,\n",
            "    \"accuracy\": 0.8078571428571429,\n",
            "    \"recall\": 0.21996498716661086,\n",
            "    \"precision\": 0.7099951082635598,\n",
            "    \"roc auc\": 0.7746341316652428,\n",
            "    \"f1 score\": 0.33561173794977417\n",
            "  },\n",
            "  \"test\": {\n",
            "    \"pr auc\": 0.5410502600279398,\n",
            "    \"accuracy\": 0.8082222222222222,\n",
            "    \"recall\": 0.2206103051525763,\n",
            "    \"precision\": 0.7241379310344828,\n",
            "    \"roc auc\": 0.776815453863198,\n",
            "    \"f1 score\": 0.3381901840490798\n",
            "  }\n",
            "}\n"
          ]
        }
      ]
    },
    {
      "cell_type": "code",
      "source": [
        ""
      ],
      "metadata": {
        "id": "6d3Nz6y9ucGc"
      },
      "execution_count": null,
      "outputs": []
    }
  ],
  "metadata": {
    "kernelspec": {
      "display_name": "Python 3",
      "language": "python",
      "name": "python3"
    },
    "language_info": {
      "codemirror_mode": {
        "name": "ipython",
        "version": 3
      },
      "file_extension": ".py",
      "mimetype": "text/x-python",
      "name": "python",
      "nbconvert_exporter": "python",
      "pygments_lexer": "ipython3",
      "version": "3.8.10"
    },
    "colab": {
      "name": "UCI_credit_card_PSO.ipynb",
      "provenance": [],
      "collapsed_sections": [],
      "include_colab_link": true
    }
  },
  "nbformat": 4,
  "nbformat_minor": 0
}