{
  "cells": [
    {
      "cell_type": "markdown",
      "metadata": {
        "id": "view-in-github",
        "colab_type": "text"
      },
      "source": [
        "<a href=\"https://colab.research.google.com/github/hsuecu/data_set/blob/main/Adult_Census_PSO.ipynb\" target=\"_parent\"><img src=\"https://colab.research.google.com/assets/colab-badge.svg\" alt=\"Open In Colab\"/></a>"
      ]
    },
    {
      "cell_type": "markdown",
      "metadata": {
        "id": "VK7T9PTonfuu"
      },
      "source": [
        "<span style=\"display:inline-block;position:relative;font-size:64px;background-color: #d9edab;padding:200px 0px;width:100%;text-align:center\">Adult Census</span>"
      ]
    },
    {
      "cell_type": "markdown",
      "metadata": {
        "id": "1_3sYOxqnfu0"
      },
      "source": [
        "<hr style=\"border-top:1px solid black;\"><p> <span style=\"font-weight:bold\">About Dataset</span>\n",
        "    \n",
        "This data was extracted from the 1994 Census bureau database by Ronny Kohavi and Barry Becker (Data Mining and Visualization, Silicon Graphics). A set of reasonably clean records was extracted using the following conditions:\n",
        "    <span style=\"display:block; background-color:#d9edab; padding: 5px 0px;text-align:center\">((AAGE>16) && (AGI>100) && (AFNLWGT>1) && (HRSWK>0))</span><span style=\"text-decoration: underline;\">The prediction task is to determine whether a person makes over $50K a year.</span>\n",
        "</p>"
      ]
    },
    {
      "cell_type": "markdown",
      "metadata": {
        "id": "f2O9Wjwjnfu2"
      },
      "source": [
        "<hr style=\"border-top:1px solid black;\"><p><span style=\"display:block;font-weight:bold\">Description of fnlwgt (final weight)</span><br>\n",
        "The weights on the Current Population Survey (CPS) files are controlled to independent estimates of the civilian noninstitutional population of the US. These are prepared monthly for us by Population Division here at the Census Bureau. We use 3 sets of controls. These are:\n",
        "<ol>\n",
        "    <li>A single cell estimate of the population 16+ for each state.</li>\n",
        "    <li>Controls for Hispanic Origin by age and sex.</li>\n",
        "    <li>Controls by Race, age and sex.</li>\n",
        "</ol>\n",
        "We use all three sets of controls in our weighting program and \"rake\" through them 6 times so that by the end we come back to all the controls we used. The term estimate refers to population totals derived from CPS by creating \"weighted tallies\" of any specified socio-economic characteristics of the population. People with similar demographic characteristics should have similar weights. There is one important caveat to remember about this statement. That is that since the CPS sample is actually a collection of 51 state samples, each with its own probability of selection, the statement only applies within state.</p><hr style=\"border-top:1px solid black;\">"
      ]
    },
    {
      "cell_type": "code",
      "execution_count": 2,
      "metadata": {
        "id": "4ROgCCRanfu3"
      },
      "outputs": [],
      "source": [
        "import pandas as pd\n",
        "import numpy as np\n",
        "import matplotlib.pyplot as plt\n",
        "import seaborn as sns\n",
        "\n",
        "import warnings\n",
        "warnings.filterwarnings('ignore')"
      ]
    },
    {
      "cell_type": "code",
      "execution_count": 3,
      "metadata": {
        "colab": {
          "base_uri": "https://localhost:8080/",
          "height": 206
        },
        "id": "tELH7G6xnfu5",
        "outputId": "22c71bfd-f22b-418a-f30b-7106c1c18552"
      },
      "outputs": [
        {
          "output_type": "execute_result",
          "data": {
            "text/plain": [
              "   age workclass  fnlwgt     education  education.num marital.status  \\\n",
              "0   90         ?   77053       HS-grad              9        Widowed   \n",
              "1   82   Private  132870       HS-grad              9        Widowed   \n",
              "2   66         ?  186061  Some-college             10        Widowed   \n",
              "3   54   Private  140359       7th-8th              4       Divorced   \n",
              "4   41   Private  264663  Some-college             10      Separated   \n",
              "\n",
              "          occupation   relationship   race     sex  capital.gain  \\\n",
              "0                  ?  Not-in-family  White  Female             0   \n",
              "1    Exec-managerial  Not-in-family  White  Female             0   \n",
              "2                  ?      Unmarried  Black  Female             0   \n",
              "3  Machine-op-inspct      Unmarried  White  Female             0   \n",
              "4     Prof-specialty      Own-child  White  Female             0   \n",
              "\n",
              "   capital.loss  hours.per.week native.country income  \n",
              "0          4356              40  United-States  <=50K  \n",
              "1          4356              18  United-States  <=50K  \n",
              "2          4356              40  United-States  <=50K  \n",
              "3          3900              40  United-States  <=50K  \n",
              "4          3900              40  United-States  <=50K  "
            ],
            "text/html": [
              "\n",
              "  <div id=\"df-24f8a334-8c7c-4654-a0f0-ca7a1e1ae88d\">\n",
              "    <div class=\"colab-df-container\">\n",
              "      <div>\n",
              "<style scoped>\n",
              "    .dataframe tbody tr th:only-of-type {\n",
              "        vertical-align: middle;\n",
              "    }\n",
              "\n",
              "    .dataframe tbody tr th {\n",
              "        vertical-align: top;\n",
              "    }\n",
              "\n",
              "    .dataframe thead th {\n",
              "        text-align: right;\n",
              "    }\n",
              "</style>\n",
              "<table border=\"1\" class=\"dataframe\">\n",
              "  <thead>\n",
              "    <tr style=\"text-align: right;\">\n",
              "      <th></th>\n",
              "      <th>age</th>\n",
              "      <th>workclass</th>\n",
              "      <th>fnlwgt</th>\n",
              "      <th>education</th>\n",
              "      <th>education.num</th>\n",
              "      <th>marital.status</th>\n",
              "      <th>occupation</th>\n",
              "      <th>relationship</th>\n",
              "      <th>race</th>\n",
              "      <th>sex</th>\n",
              "      <th>capital.gain</th>\n",
              "      <th>capital.loss</th>\n",
              "      <th>hours.per.week</th>\n",
              "      <th>native.country</th>\n",
              "      <th>income</th>\n",
              "    </tr>\n",
              "  </thead>\n",
              "  <tbody>\n",
              "    <tr>\n",
              "      <th>0</th>\n",
              "      <td>90</td>\n",
              "      <td>?</td>\n",
              "      <td>77053</td>\n",
              "      <td>HS-grad</td>\n",
              "      <td>9</td>\n",
              "      <td>Widowed</td>\n",
              "      <td>?</td>\n",
              "      <td>Not-in-family</td>\n",
              "      <td>White</td>\n",
              "      <td>Female</td>\n",
              "      <td>0</td>\n",
              "      <td>4356</td>\n",
              "      <td>40</td>\n",
              "      <td>United-States</td>\n",
              "      <td>&lt;=50K</td>\n",
              "    </tr>\n",
              "    <tr>\n",
              "      <th>1</th>\n",
              "      <td>82</td>\n",
              "      <td>Private</td>\n",
              "      <td>132870</td>\n",
              "      <td>HS-grad</td>\n",
              "      <td>9</td>\n",
              "      <td>Widowed</td>\n",
              "      <td>Exec-managerial</td>\n",
              "      <td>Not-in-family</td>\n",
              "      <td>White</td>\n",
              "      <td>Female</td>\n",
              "      <td>0</td>\n",
              "      <td>4356</td>\n",
              "      <td>18</td>\n",
              "      <td>United-States</td>\n",
              "      <td>&lt;=50K</td>\n",
              "    </tr>\n",
              "    <tr>\n",
              "      <th>2</th>\n",
              "      <td>66</td>\n",
              "      <td>?</td>\n",
              "      <td>186061</td>\n",
              "      <td>Some-college</td>\n",
              "      <td>10</td>\n",
              "      <td>Widowed</td>\n",
              "      <td>?</td>\n",
              "      <td>Unmarried</td>\n",
              "      <td>Black</td>\n",
              "      <td>Female</td>\n",
              "      <td>0</td>\n",
              "      <td>4356</td>\n",
              "      <td>40</td>\n",
              "      <td>United-States</td>\n",
              "      <td>&lt;=50K</td>\n",
              "    </tr>\n",
              "    <tr>\n",
              "      <th>3</th>\n",
              "      <td>54</td>\n",
              "      <td>Private</td>\n",
              "      <td>140359</td>\n",
              "      <td>7th-8th</td>\n",
              "      <td>4</td>\n",
              "      <td>Divorced</td>\n",
              "      <td>Machine-op-inspct</td>\n",
              "      <td>Unmarried</td>\n",
              "      <td>White</td>\n",
              "      <td>Female</td>\n",
              "      <td>0</td>\n",
              "      <td>3900</td>\n",
              "      <td>40</td>\n",
              "      <td>United-States</td>\n",
              "      <td>&lt;=50K</td>\n",
              "    </tr>\n",
              "    <tr>\n",
              "      <th>4</th>\n",
              "      <td>41</td>\n",
              "      <td>Private</td>\n",
              "      <td>264663</td>\n",
              "      <td>Some-college</td>\n",
              "      <td>10</td>\n",
              "      <td>Separated</td>\n",
              "      <td>Prof-specialty</td>\n",
              "      <td>Own-child</td>\n",
              "      <td>White</td>\n",
              "      <td>Female</td>\n",
              "      <td>0</td>\n",
              "      <td>3900</td>\n",
              "      <td>40</td>\n",
              "      <td>United-States</td>\n",
              "      <td>&lt;=50K</td>\n",
              "    </tr>\n",
              "  </tbody>\n",
              "</table>\n",
              "</div>\n",
              "      <button class=\"colab-df-convert\" onclick=\"convertToInteractive('df-24f8a334-8c7c-4654-a0f0-ca7a1e1ae88d')\"\n",
              "              title=\"Convert this dataframe to an interactive table.\"\n",
              "              style=\"display:none;\">\n",
              "        \n",
              "  <svg xmlns=\"http://www.w3.org/2000/svg\" height=\"24px\"viewBox=\"0 0 24 24\"\n",
              "       width=\"24px\">\n",
              "    <path d=\"M0 0h24v24H0V0z\" fill=\"none\"/>\n",
              "    <path d=\"M18.56 5.44l.94 2.06.94-2.06 2.06-.94-2.06-.94-.94-2.06-.94 2.06-2.06.94zm-11 1L8.5 8.5l.94-2.06 2.06-.94-2.06-.94L8.5 2.5l-.94 2.06-2.06.94zm10 10l.94 2.06.94-2.06 2.06-.94-2.06-.94-.94-2.06-.94 2.06-2.06.94z\"/><path d=\"M17.41 7.96l-1.37-1.37c-.4-.4-.92-.59-1.43-.59-.52 0-1.04.2-1.43.59L10.3 9.45l-7.72 7.72c-.78.78-.78 2.05 0 2.83L4 21.41c.39.39.9.59 1.41.59.51 0 1.02-.2 1.41-.59l7.78-7.78 2.81-2.81c.8-.78.8-2.07 0-2.86zM5.41 20L4 18.59l7.72-7.72 1.47 1.35L5.41 20z\"/>\n",
              "  </svg>\n",
              "      </button>\n",
              "      \n",
              "  <style>\n",
              "    .colab-df-container {\n",
              "      display:flex;\n",
              "      flex-wrap:wrap;\n",
              "      gap: 12px;\n",
              "    }\n",
              "\n",
              "    .colab-df-convert {\n",
              "      background-color: #E8F0FE;\n",
              "      border: none;\n",
              "      border-radius: 50%;\n",
              "      cursor: pointer;\n",
              "      display: none;\n",
              "      fill: #1967D2;\n",
              "      height: 32px;\n",
              "      padding: 0 0 0 0;\n",
              "      width: 32px;\n",
              "    }\n",
              "\n",
              "    .colab-df-convert:hover {\n",
              "      background-color: #E2EBFA;\n",
              "      box-shadow: 0px 1px 2px rgba(60, 64, 67, 0.3), 0px 1px 3px 1px rgba(60, 64, 67, 0.15);\n",
              "      fill: #174EA6;\n",
              "    }\n",
              "\n",
              "    [theme=dark] .colab-df-convert {\n",
              "      background-color: #3B4455;\n",
              "      fill: #D2E3FC;\n",
              "    }\n",
              "\n",
              "    [theme=dark] .colab-df-convert:hover {\n",
              "      background-color: #434B5C;\n",
              "      box-shadow: 0px 1px 3px 1px rgba(0, 0, 0, 0.15);\n",
              "      filter: drop-shadow(0px 1px 2px rgba(0, 0, 0, 0.3));\n",
              "      fill: #FFFFFF;\n",
              "    }\n",
              "  </style>\n",
              "\n",
              "      <script>\n",
              "        const buttonEl =\n",
              "          document.querySelector('#df-24f8a334-8c7c-4654-a0f0-ca7a1e1ae88d button.colab-df-convert');\n",
              "        buttonEl.style.display =\n",
              "          google.colab.kernel.accessAllowed ? 'block' : 'none';\n",
              "\n",
              "        async function convertToInteractive(key) {\n",
              "          const element = document.querySelector('#df-24f8a334-8c7c-4654-a0f0-ca7a1e1ae88d');\n",
              "          const dataTable =\n",
              "            await google.colab.kernel.invokeFunction('convertToInteractive',\n",
              "                                                     [key], {});\n",
              "          if (!dataTable) return;\n",
              "\n",
              "          const docLinkHtml = 'Like what you see? Visit the ' +\n",
              "            '<a target=\"_blank\" href=https://colab.research.google.com/notebooks/data_table.ipynb>data table notebook</a>'\n",
              "            + ' to learn more about interactive tables.';\n",
              "          element.innerHTML = '';\n",
              "          dataTable['output_type'] = 'display_data';\n",
              "          await google.colab.output.renderOutput(dataTable, element);\n",
              "          const docLink = document.createElement('div');\n",
              "          docLink.innerHTML = docLinkHtml;\n",
              "          element.appendChild(docLink);\n",
              "        }\n",
              "      </script>\n",
              "    </div>\n",
              "  </div>\n",
              "  "
            ]
          },
          "metadata": {},
          "execution_count": 3
        }
      ],
      "source": [
        "data = pd.read_csv('https://raw.githubusercontent.com/hsuecu/python_ml/main/adult.csv')\n",
        "data.head()"
      ]
    },
    {
      "cell_type": "code",
      "execution_count": 4,
      "metadata": {
        "colab": {
          "base_uri": "https://localhost:8080/"
        },
        "id": "_AG9A0fpnfu8",
        "outputId": "955ef183-0a43-4f36-f7cb-abd122ca46ef"
      },
      "outputs": [
        {
          "output_type": "stream",
          "name": "stdout",
          "text": [
            "<class 'pandas.core.frame.DataFrame'>\n",
            "RangeIndex: 32561 entries, 0 to 32560\n",
            "Data columns (total 15 columns):\n",
            " #   Column          Non-Null Count  Dtype \n",
            "---  ------          --------------  ----- \n",
            " 0   age             32561 non-null  int64 \n",
            " 1   workclass       32561 non-null  object\n",
            " 2   fnlwgt          32561 non-null  int64 \n",
            " 3   education       32561 non-null  object\n",
            " 4   education.num   32561 non-null  int64 \n",
            " 5   marital.status  32561 non-null  object\n",
            " 6   occupation      32561 non-null  object\n",
            " 7   relationship    32561 non-null  object\n",
            " 8   race            32561 non-null  object\n",
            " 9   sex             32561 non-null  object\n",
            " 10  capital.gain    32561 non-null  int64 \n",
            " 11  capital.loss    32561 non-null  int64 \n",
            " 12  hours.per.week  32561 non-null  int64 \n",
            " 13  native.country  32561 non-null  object\n",
            " 14  income          32561 non-null  object\n",
            "dtypes: int64(6), object(9)\n",
            "memory usage: 3.7+ MB\n"
          ]
        }
      ],
      "source": [
        "data.info()"
      ]
    },
    {
      "cell_type": "markdown",
      "metadata": {
        "id": "TDuUbnnQnfu9"
      },
      "source": [
        "<p style=\"background-color: #d9edab; padding:50px 20px;text-align:center;font-size:30px\">Bar graph visualization </p>"
      ]
    },
    {
      "cell_type": "markdown",
      "metadata": {
        "id": "_ZWOxW5Cnfu9"
      },
      "source": [
        "<p style=\"background-color: #d9edab; padding:25px 10px;text-align:center;\">WORKCLASS</p>"
      ]
    },
    {
      "cell_type": "code",
      "execution_count": 5,
      "metadata": {
        "id": "Xn1cUnHVnfu-",
        "outputId": "9f36a461-a3e8-459f-f3df-ce6492b8979e",
        "colab": {
          "base_uri": "https://localhost:8080/",
          "height": 338
        }
      },
      "outputs": [
        {
          "output_type": "display_data",
          "data": {
            "text/plain": [
              "<Figure size 432x288 with 1 Axes>"
            ],
            "image/png": "[encoded data removed]"
          },
          "metadata": {
            "needs_background": "light"
          }
        }
      ],
      "source": [
        "ax = data['workclass'].value_counts().to_frame().plot.bar()"
      ]
    },
    {
      "cell_type": "code",
      "execution_count": 6,
      "metadata": {
        "id": "RpaxiD0tnfvA",
        "outputId": "7a63fe99-19ee-4911-fd45-074257f04f34",
        "colab": {
          "base_uri": "https://localhost:8080/",
          "height": 338
        }
      },
      "outputs": [
        {
          "output_type": "display_data",
          "data": {
            "text/plain": [
              "<Figure size 432x288 with 1 Axes>"
            ],
            "image/png": "[encoded data removed]"
          },
          "metadata": {
            "needs_background": "light"
          }
        }
      ],
      "source": [
        "data['workclass'].replace('?', np.NAN, inplace=True)\n",
        "ax = data['workclass'].value_counts().to_frame().plot.bar()"
      ]
    },
    {
      "cell_type": "markdown",
      "metadata": {
        "id": "a-iTKtCjnfvC"
      },
      "source": [
        "<p style=\"background-color: #d9edab; padding:25px 10px;text-align:center;\">EDUCATION</p>"
      ]
    },
    {
      "cell_type": "code",
      "execution_count": 7,
      "metadata": {
        "id": "YQLP_UkcnfvD",
        "outputId": "fb5bec70-5a41-48bf-b59e-ba994e56f07e",
        "colab": {
          "base_uri": "https://localhost:8080/",
          "height": 432
        }
      },
      "outputs": [
        {
          "output_type": "display_data",
          "data": {
            "text/plain": [
              "<Figure size 720x432 with 1 Axes>"
            ],
            "image/png": "[encoded data removed]"
          },
          "metadata": {
            "needs_background": "light"
          }
        }
      ],
      "source": [
        "ax = data['education'].value_counts().to_frame().plot.bar(figsize=(10, 6))"
      ]
    },
    {
      "cell_type": "markdown",
      "metadata": {
        "id": "0KJHV-L6nfvE"
      },
      "source": [
        "<p style=\"background-color: #d9edab; padding:25px 10px;text-align:center;\">MARITAL STATUS</p>"
      ]
    },
    {
      "cell_type": "code",
      "execution_count": 8,
      "metadata": {
        "id": "i_KJ-RtknfvG",
        "outputId": "603b725e-3240-47df-cf77-58a127492e1d",
        "colab": {
          "base_uri": "https://localhost:8080/",
          "height": 370
        }
      },
      "outputs": [
        {
          "output_type": "display_data",
          "data": {
            "text/plain": [
              "<Figure size 432x288 with 1 Axes>"
            ],
            "image/png": "[encoded data removed]"
          },
          "metadata": {
            "needs_background": "light"
          }
        }
      ],
      "source": [
        "ax = data['marital.status'].value_counts().to_frame().plot.bar()"
      ]
    },
    {
      "cell_type": "markdown",
      "metadata": {
        "id": "Mzangnf7nfvH"
      },
      "source": [
        "<p style=\"background-color: #d9edab; padding:25px 10px;text-align:center;\">OCCUPATION</p>"
      ]
    },
    {
      "cell_type": "code",
      "execution_count": 9,
      "metadata": {
        "id": "_AOl3PLqnfvI",
        "outputId": "51ad37fd-404d-4d0f-dfa1-0d05ab0bbfa6",
        "colab": {
          "base_uri": "https://localhost:8080/",
          "height": 510
        }
      },
      "outputs": [
        {
          "output_type": "display_data",
          "data": {
            "text/plain": [
              "<Figure size 648x504 with 1 Axes>"
            ],
            "image/png": "[encoded data removed]"
          },
          "metadata": {
            "needs_background": "light"
          }
        }
      ],
      "source": [
        "ax = data['occupation'].value_counts().to_frame().plot.bar(figsize=(9, 7))"
      ]
    },
    {
      "cell_type": "code",
      "execution_count": 10,
      "metadata": {
        "id": "lndwygrinfvI",
        "outputId": "66f663d2-2362-4071-f73e-b21edb627168",
        "colab": {
          "base_uri": "https://localhost:8080/",
          "height": 510
        }
      },
      "outputs": [
        {
          "output_type": "display_data",
          "data": {
            "text/plain": [
              "<Figure size 648x504 with 1 Axes>"
            ],
            "image/png": "[encoded data removed]"
          },
          "metadata": {
            "needs_background": "light"
          }
        }
      ],
      "source": [
        "data['occupation'].replace('?', np.NAN, inplace=True)\n",
        "ax = data['occupation'].value_counts().to_frame().plot.bar(figsize=(9, 7))"
      ]
    },
    {
      "cell_type": "markdown",
      "metadata": {
        "id": "dm7TnMF3nfvJ"
      },
      "source": [
        "<p style=\"background-color: #d9edab; padding:25px 10px;text-align:center;\">RELATIONSHIP</p>"
      ]
    },
    {
      "cell_type": "code",
      "execution_count": 11,
      "metadata": {
        "id": "DyPWENOQnfvJ",
        "outputId": "3a6adae2-a82b-493a-f85e-e6db7651ce8e",
        "colab": {
          "base_uri": "https://localhost:8080/",
          "height": 324
        }
      },
      "outputs": [
        {
          "output_type": "display_data",
          "data": {
            "text/plain": [
              "<Figure size 432x288 with 1 Axes>"
            ],
            "image/png": "[encoded data removed]"
          },
          "metadata": {
            "needs_background": "light"
          }
        }
      ],
      "source": [
        "ax = data['relationship'].value_counts().to_frame().plot.bar()"
      ]
    },
    {
      "cell_type": "markdown",
      "metadata": {
        "id": "gMwAkonmnfvK"
      },
      "source": [
        "<p style=\"background-color: #d9edab; padding:25px 10px;text-align:center;\">RACE</p>"
      ]
    },
    {
      "cell_type": "code",
      "execution_count": 12,
      "metadata": {
        "id": "InNtheHhnfvK",
        "outputId": "fb5632b8-4c8d-4883-cca2-6d0865dcbe41",
        "colab": {
          "base_uri": "https://localhost:8080/",
          "height": 355
        }
      },
      "outputs": [
        {
          "output_type": "display_data",
          "data": {
            "text/plain": [
              "<Figure size 432x288 with 1 Axes>"
            ],
            "image/png": "[encoded data removed]"
          },
          "metadata": {
            "needs_background": "light"
          }
        }
      ],
      "source": [
        "ax = data['race'].value_counts().to_frame().plot.bar()"
      ]
    },
    {
      "cell_type": "markdown",
      "metadata": {
        "id": "9eupy5S5nfvL"
      },
      "source": [
        "<p style=\"background-color: #d9edab; padding:25px 10px;text-align:center;\">SEX</p>"
      ]
    },
    {
      "cell_type": "code",
      "execution_count": 13,
      "metadata": {
        "id": "aeNG-N3fnfvL",
        "outputId": "e29f041c-a79a-49d4-a709-029bb1a23df2",
        "colab": {
          "base_uri": "https://localhost:8080/",
          "height": 291
        }
      },
      "outputs": [
        {
          "output_type": "display_data",
          "data": {
            "text/plain": [
              "<Figure size 432x288 with 1 Axes>"
            ],
            "image/png": "[encoded data removed]"
          },
          "metadata": {
            "needs_background": "light"
          }
        }
      ],
      "source": [
        "ax = data['sex'].value_counts().to_frame().plot.bar()"
      ]
    },
    {
      "cell_type": "markdown",
      "metadata": {
        "id": "MeobNcienfvM"
      },
      "source": [
        "<p style=\"background-color: #d9edab; padding:25px 10px;text-align:center;\">NATIVE COUNTRY</p>"
      ]
    },
    {
      "cell_type": "code",
      "execution_count": 14,
      "metadata": {
        "id": "E-rHte5anfvM",
        "outputId": "8bfab798-e360-4230-db64-71928d72d403",
        "colab": {
          "base_uri": "https://localhost:8080/",
          "height": 616
        }
      },
      "outputs": [
        {
          "output_type": "display_data",
          "data": {
            "text/plain": [
              "<Figure size 1440x576 with 1 Axes>"
            ],
            "image/png": "[encoded data removed]"
          },
          "metadata": {
            "needs_background": "light"
          }
        }
      ],
      "source": [
        "ax = data['native.country'].value_counts().to_frame().plot.bar(figsize=(20, 8))"
      ]
    },
    {
      "cell_type": "code",
      "execution_count": 15,
      "metadata": {
        "id": "-gCe7FYPnfvM",
        "outputId": "1a0b5b17-0b07-454e-de7c-533a527c95fe",
        "colab": {
          "base_uri": "https://localhost:8080/",
          "height": 616
        }
      },
      "outputs": [
        {
          "output_type": "display_data",
          "data": {
            "text/plain": [
              "<Figure size 1440x576 with 1 Axes>"
            ],
            "image/png": "[encoded data removed]"
          },
          "metadata": {
            "needs_background": "light"
          }
        }
      ],
      "source": [
        "data['native.country'].replace('?', np.NAN, inplace=True)\n",
        "ax = data['native.country'].value_counts().to_frame().plot.bar(figsize=(20, 8))"
      ]
    },
    {
      "cell_type": "markdown",
      "metadata": {
        "id": "pHvzV7_GnfvM"
      },
      "source": [
        "<p style=\"background-color: #d9edab; padding:25px 10px;text-align:center;\">INCOME</p>"
      ]
    },
    {
      "cell_type": "code",
      "execution_count": 16,
      "metadata": {
        "id": "N7HSDGpXnfvN",
        "outputId": "deac4660-4387-4913-cea6-e62e69671c79",
        "colab": {
          "base_uri": "https://localhost:8080/",
          "height": 291
        }
      },
      "outputs": [
        {
          "output_type": "display_data",
          "data": {
            "text/plain": [
              "<Figure size 432x288 with 1 Axes>"
            ],
            "image/png": "[encoded data removed]"
          },
          "metadata": {
            "needs_background": "light"
          }
        }
      ],
      "source": [
        "ax = data['income'].value_counts().to_frame().plot.bar()"
      ]
    },
    {
      "cell_type": "code",
      "execution_count": 17,
      "metadata": {
        "id": "xE6eCvj5nfvN",
        "outputId": "edcac64f-3c9f-44f1-9ce3-bb70f92d9813",
        "colab": {
          "base_uri": "https://localhost:8080/",
          "height": 262
        }
      },
      "outputs": [
        {
          "output_type": "display_data",
          "data": {
            "text/plain": [
              "<Figure size 432x288 with 1 Axes>"
            ],
            "image/png": "[encoded data removed]"
          },
          "metadata": {
            "needs_background": "light"
          }
        }
      ],
      "source": [
        "data['income']=data['income'].apply(lambda a: 1 if a == '>50K' else (0 if a=='<=50K' else a))\n",
        "ax = data['income'].value_counts().to_frame().plot.bar()"
      ]
    },
    {
      "cell_type": "markdown",
      "metadata": {
        "id": "f5g9BnmSnfvN"
      },
      "source": [
        "<p style=\"background-color: #d9edab; padding:50px 20px;text-align:center;font-size:30px\">NAN Elimination</p>"
      ]
    },
    {
      "cell_type": "code",
      "execution_count": 18,
      "metadata": {
        "id": "awOGhb46nfvN",
        "outputId": "9dedeec8-695d-4c07-8bea-2ebf79701608",
        "colab": {
          "base_uri": "https://localhost:8080/"
        }
      },
      "outputs": [
        {
          "output_type": "stream",
          "name": "stdout",
          "text": [
            "Useless entries in data set:7.368%\n"
          ]
        }
      ],
      "source": [
        "if __name__ == \"__main__\":\n",
        "    count=0\n",
        "    for i in range(data.shape[0]):\n",
        "        for j in data.iloc[i].isna():\n",
        "            if j:\n",
        "                count+=1\n",
        "                break\n",
        "    print(f'Useless entries in data set:{round(count/data.shape[0] *100, 3)}%')"
      ]
    },
    {
      "cell_type": "code",
      "execution_count": 19,
      "metadata": {
        "id": "h3IOW-y1nfvO"
      },
      "outputs": [],
      "source": [
        "data.dropna(axis=0, inplace=True)"
      ]
    },
    {
      "cell_type": "code",
      "execution_count": 20,
      "metadata": {
        "id": "q51g8fuFnfvO",
        "outputId": "ceafb6a9-bb75-4ddc-a3e5-b91ac0c37de7",
        "colab": {
          "base_uri": "https://localhost:8080/"
        }
      },
      "outputs": [
        {
          "output_type": "stream",
          "name": "stdout",
          "text": [
            "<class 'pandas.core.frame.DataFrame'>\n",
            "Int64Index: 30162 entries, 1 to 32560\n",
            "Data columns (total 15 columns):\n",
            " #   Column          Non-Null Count  Dtype \n",
            "---  ------          --------------  ----- \n",
            " 0   age             30162 non-null  int64 \n",
            " 1   workclass       30162 non-null  object\n",
            " 2   fnlwgt          30162 non-null  int64 \n",
            " 3   education       30162 non-null  object\n",
            " 4   education.num   30162 non-null  int64 \n",
            " 5   marital.status  30162 non-null  object\n",
            " 6   occupation      30162 non-null  object\n",
            " 7   relationship    30162 non-null  object\n",
            " 8   race            30162 non-null  object\n",
            " 9   sex             30162 non-null  object\n",
            " 10  capital.gain    30162 non-null  int64 \n",
            " 11  capital.loss    30162 non-null  int64 \n",
            " 12  hours.per.week  30162 non-null  int64 \n",
            " 13  native.country  30162 non-null  object\n",
            " 14  income          30162 non-null  int64 \n",
            "dtypes: int64(7), object(8)\n",
            "memory usage: 3.7+ MB\n"
          ]
        }
      ],
      "source": [
        "data.info()"
      ]
    },
    {
      "cell_type": "markdown",
      "metadata": {
        "id": "Y9k17yohnfvP"
      },
      "source": [
        "<p style=\"background-color: #d9edab; padding:50px 20px;text-align:center;font-size:30px\">DATA Processing</p>"
      ]
    },
    {
      "cell_type": "code",
      "execution_count": 21,
      "metadata": {
        "id": "5mptsrlNnfvP"
      },
      "outputs": [],
      "source": [
        "encoded_data = pd.get_dummies(data = data[['workclass','education','marital.status', 'occupation', 'relationship', 'race', 'sex', 'native.country']], drop_first=False)"
      ]
    },
    {
      "cell_type": "code",
      "execution_count": 22,
      "metadata": {
        "id": "XkJpR0-CnfvQ",
        "outputId": "dfad9d89-bc12-4edf-a97e-51c8d5932de7",
        "colab": {
          "base_uri": "https://localhost:8080/"
        }
      },
      "outputs": [
        {
          "output_type": "stream",
          "name": "stdout",
          "text": [
            "<class 'pandas.core.frame.DataFrame'>\n",
            "Int64Index: 30162 entries, 1 to 32560\n",
            "Columns: 98 entries, workclass_Federal-gov to native.country_Yugoslavia\n",
            "dtypes: uint8(98)\n",
            "memory usage: 3.0 MB\n"
          ]
        }
      ],
      "source": [
        "encoded_data.info(verbose=False)"
      ]
    },
    {
      "cell_type": "code",
      "execution_count": 23,
      "metadata": {
        "id": "ptUUdIA4nfvQ"
      },
      "outputs": [],
      "source": [
        "data = pd.concat([data, encoded_data], axis=1)"
      ]
    },
    {
      "cell_type": "code",
      "execution_count": 24,
      "metadata": {
        "id": "KJfbZO6snfvQ"
      },
      "outputs": [],
      "source": [
        "data.drop(['workclass','education','marital.status', 'occupation', 'relationship', 'race', 'sex', 'native.country'], axis=1, inplace=True)"
      ]
    },
    {
      "cell_type": "code",
      "execution_count": 25,
      "metadata": {
        "id": "H_fVWe1enfvQ",
        "outputId": "169d3e83-5188-4189-d8ee-93b90977ffa8",
        "colab": {
          "base_uri": "https://localhost:8080/"
        }
      },
      "outputs": [
        {
          "output_type": "stream",
          "name": "stdout",
          "text": [
            "<class 'pandas.core.frame.DataFrame'>\n",
            "Int64Index: 30162 entries, 1 to 32560\n",
            "Columns: 105 entries, age to native.country_Yugoslavia\n",
            "dtypes: int64(7), uint8(98)\n",
            "memory usage: 4.7 MB\n"
          ]
        }
      ],
      "source": [
        "data.info(verbose=False)"
      ]
    },
    {
      "cell_type": "markdown",
      "metadata": {
        "id": "EW98ULiKnfvR"
      },
      "source": [
        "<p style=\"background-color: #d9edab; padding:50px 20px;text-align:center;font-size:30px\">Scaling and Seperation</p>"
      ]
    },
    {
      "cell_type": "code",
      "execution_count": 26,
      "metadata": {
        "id": "Fz11zXDRnfvR"
      },
      "outputs": [],
      "source": [
        "X = data.drop(['income'], axis=1)\n",
        "y = data['income']\n",
        "\n",
        "from sklearn.preprocessing import RobustScaler\n",
        "scaler = RobustScaler()\n",
        "col = ['age', 'fnlwgt', 'education.num', 'hours.per.week', 'capital.gain', 'capital.loss']\n",
        "\n",
        "X[col] = scaler.fit_transform(X[col])"
      ]
    },
    {
      "cell_type": "code",
      "execution_count": 27,
      "metadata": {
        "id": "Adfsy_sbnfvR",
        "outputId": "25a9e866-014f-48e9-de63-3d2eb9378308",
        "colab": {
          "base_uri": "https://localhost:8080/"
        }
      },
      "outputs": [
        {
          "output_type": "stream",
          "name": "stdout",
          "text": [
            "X:(30162, 104), y:(30162,)\n"
          ]
        }
      ],
      "source": [
        "print(f'X:{X.shape}, y:{y.shape}')"
      ]
    },
    {
      "cell_type": "code",
      "execution_count": 28,
      "metadata": {
        "id": "LmbWGvmSnfvR"
      },
      "outputs": [],
      "source": [
        "from sklearn.model_selection import train_test_split\n",
        "X_train,  X_test,y_train, y_test = train_test_split(X,y, train_size = 0.6 )"
      ]
    },
    {
      "cell_type": "code",
      "execution_count": 29,
      "metadata": {
        "id": "12aNpFftnfvS",
        "outputId": "0ff4c9e0-6b44-44be-8906-374461686557",
        "colab": {
          "base_uri": "https://localhost:8080/",
          "height": 317
        }
      },
      "outputs": [
        {
          "output_type": "execute_result",
          "data": {
            "text/plain": [
              "            age    fnlwgt  education.num  capital.gain  capital.loss  \\\n",
              "23361  1.736842  0.359813           0.00           0.0           0.0   \n",
              "17519  1.210526 -0.534678           0.75           0.0           0.0   \n",
              "3235   0.263158 -0.441362           0.75        4650.0           0.0   \n",
              "3466  -0.263158  0.756300           0.00        3887.0           0.0   \n",
              "16435  0.157895  0.049608           0.00           0.0           0.0   \n",
              "\n",
              "       hours.per.week  workclass_Federal-gov  workclass_Local-gov  \\\n",
              "23361            -1.2                      0                    0   \n",
              "17519             0.0                      0                    0   \n",
              "3235             -1.0                      0                    1   \n",
              "3466              0.0                      0                    0   \n",
              "16435             4.0                      0                    0   \n",
              "\n",
              "       workclass_Private  workclass_Self-emp-inc  ...  \\\n",
              "23361                  1                       0  ...   \n",
              "17519                  1                       0  ...   \n",
              "3235                   0                       0  ...   \n",
              "3466                   1                       0  ...   \n",
              "16435                  1                       0  ...   \n",
              "\n",
              "       native.country_Portugal  native.country_Puerto-Rico  \\\n",
              "23361                        0                           0   \n",
              "17519                        0                           0   \n",
              "3235                         0                           0   \n",
              "3466                         0                           0   \n",
              "16435                        0                           1   \n",
              "\n",
              "       native.country_Scotland  native.country_South  native.country_Taiwan  \\\n",
              "23361                        0                     0                      0   \n",
              "17519                        0                     0                      0   \n",
              "3235                         0                     0                      0   \n",
              "3466                         0                     0                      0   \n",
              "16435                        0                     0                      0   \n",
              "\n",
              "       native.country_Thailand  native.country_Trinadad&Tobago  \\\n",
              "23361                        0                               0   \n",
              "17519                        0                               0   \n",
              "3235                         0                               0   \n",
              "3466                         0                               0   \n",
              "16435                        0                               0   \n",
              "\n",
              "       native.country_United-States  native.country_Vietnam  \\\n",
              "23361                             1                       0   \n",
              "17519                             0                       0   \n",
              "3235                              1                       0   \n",
              "3466                              1                       0   \n",
              "16435                             0                       0   \n",
              "\n",
              "       native.country_Yugoslavia  \n",
              "23361                          0  \n",
              "17519                          0  \n",
              "3235                           0  \n",
              "3466                           0  \n",
              "16435                          0  \n",
              "\n",
              "[5 rows x 104 columns]"
            ],
            "text/html": [
              "\n",
              "  <div id=\"df-0bc7d5ce-3890-4f75-930c-afc36cf6b31b\">\n",
              "    <div class=\"colab-df-container\">\n",
              "      <div>\n",
              "<style scoped>\n",
              "    .dataframe tbody tr th:only-of-type {\n",
              "        vertical-align: middle;\n",
              "    }\n",
              "\n",
              "    .dataframe tbody tr th {\n",
              "        vertical-align: top;\n",
              "    }\n",
              "\n",
              "    .dataframe thead th {\n",
              "        text-align: right;\n",
              "    }\n",
              "</style>\n",
              "<table border=\"1\" class=\"dataframe\">\n",
              "  <thead>\n",
              "    <tr style=\"text-align: right;\">\n",
              "      <th></th>\n",
              "      <th>age</th>\n",
              "      <th>fnlwgt</th>\n",
              "      <th>education.num</th>\n",
              "      <th>capital.gain</th>\n",
              "      <th>capital.loss</th>\n",
              "      <th>hours.per.week</th>\n",
              "      <th>workclass_Federal-gov</th>\n",
              "      <th>workclass_Local-gov</th>\n",
              "      <th>workclass_Private</th>\n",
              "      <th>workclass_Self-emp-inc</th>\n",
              "      <th>...</th>\n",
              "      <th>native.country_Portugal</th>\n",
              "      <th>native.country_Puerto-Rico</th>\n",
              "      <th>native.country_Scotland</th>\n",
              "      <th>native.country_South</th>\n",
              "      <th>native.country_Taiwan</th>\n",
              "      <th>native.country_Thailand</th>\n",
              "      <th>native.country_Trinadad&amp;Tobago</th>\n",
              "      <th>native.country_United-States</th>\n",
              "      <th>native.country_Vietnam</th>\n",
              "      <th>native.country_Yugoslavia</th>\n",
              "    </tr>\n",
              "  </thead>\n",
              "  <tbody>\n",
              "    <tr>\n",
              "      <th>23361</th>\n",
              "      <td>1.736842</td>\n",
              "      <td>0.359813</td>\n",
              "      <td>0.00</td>\n",
              "      <td>0.0</td>\n",
              "      <td>0.0</td>\n",
              "      <td>-1.2</td>\n",
              "      <td>0</td>\n",
              "      <td>0</td>\n",
              "      <td>1</td>\n",
              "      <td>0</td>\n",
              "      <td>...</td>\n",
              "      <td>0</td>\n",
              "      <td>0</td>\n",
              "      <td>0</td>\n",
              "      <td>0</td>\n",
              "      <td>0</td>\n",
              "      <td>0</td>\n",
              "      <td>0</td>\n",
              "      <td>1</td>\n",
              "      <td>0</td>\n",
              "      <td>0</td>\n",
              "    </tr>\n",
              "    <tr>\n",
              "      <th>17519</th>\n",
              "      <td>1.210526</td>\n",
              "      <td>-0.534678</td>\n",
              "      <td>0.75</td>\n",
              "      <td>0.0</td>\n",
              "      <td>0.0</td>\n",
              "      <td>0.0</td>\n",
              "      <td>0</td>\n",
              "      <td>0</td>\n",
              "      <td>1</td>\n",
              "      <td>0</td>\n",
              "      <td>...</td>\n",
              "      <td>0</td>\n",
              "      <td>0</td>\n",
              "      <td>0</td>\n",
              "      <td>0</td>\n",
              "      <td>0</td>\n",
              "      <td>0</td>\n",
              "      <td>0</td>\n",
              "      <td>0</td>\n",
              "      <td>0</td>\n",
              "      <td>0</td>\n",
              "    </tr>\n",
              "    <tr>\n",
              "      <th>3235</th>\n",
              "      <td>0.263158</td>\n",
              "      <td>-0.441362</td>\n",
              "      <td>0.75</td>\n",
              "      <td>4650.0</td>\n",
              "      <td>0.0</td>\n",
              "      <td>-1.0</td>\n",
              "      <td>0</td>\n",
              "      <td>1</td>\n",
              "      <td>0</td>\n",
              "      <td>0</td>\n",
              "      <td>...</td>\n",
              "      <td>0</td>\n",
              "      <td>0</td>\n",
              "      <td>0</td>\n",
              "      <td>0</td>\n",
              "      <td>0</td>\n",
              "      <td>0</td>\n",
              "      <td>0</td>\n",
              "      <td>1</td>\n",
              "      <td>0</td>\n",
              "      <td>0</td>\n",
              "    </tr>\n",
              "    <tr>\n",
              "      <th>3466</th>\n",
              "      <td>-0.263158</td>\n",
              "      <td>0.756300</td>\n",
              "      <td>0.00</td>\n",
              "      <td>3887.0</td>\n",
              "      <td>0.0</td>\n",
              "      <td>0.0</td>\n",
              "      <td>0</td>\n",
              "      <td>0</td>\n",
              "      <td>1</td>\n",
              "      <td>0</td>\n",
              "      <td>...</td>\n",
              "      <td>0</td>\n",
              "      <td>0</td>\n",
              "      <td>0</td>\n",
              "      <td>0</td>\n",
              "      <td>0</td>\n",
              "      <td>0</td>\n",
              "      <td>0</td>\n",
              "      <td>1</td>\n",
              "      <td>0</td>\n",
              "      <td>0</td>\n",
              "    </tr>\n",
              "    <tr>\n",
              "      <th>16435</th>\n",
              "      <td>0.157895</td>\n",
              "      <td>0.049608</td>\n",
              "      <td>0.00</td>\n",
              "      <td>0.0</td>\n",
              "      <td>0.0</td>\n",
              "      <td>4.0</td>\n",
              "      <td>0</td>\n",
              "      <td>0</td>\n",
              "      <td>1</td>\n",
              "      <td>0</td>\n",
              "      <td>...</td>\n",
              "      <td>0</td>\n",
              "      <td>1</td>\n",
              "      <td>0</td>\n",
              "      <td>0</td>\n",
              "      <td>0</td>\n",
              "      <td>0</td>\n",
              "      <td>0</td>\n",
              "      <td>0</td>\n",
              "      <td>0</td>\n",
              "      <td>0</td>\n",
              "    </tr>\n",
              "  </tbody>\n",
              "</table>\n",
              "<p>5 rows × 104 columns</p>\n",
              "</div>\n",
              "      <button class=\"colab-df-convert\" onclick=\"convertToInteractive('df-0bc7d5ce-3890-4f75-930c-afc36cf6b31b')\"\n",
              "              title=\"Convert this dataframe to an interactive table.\"\n",
              "              style=\"display:none;\">\n",
              "        \n",
              "  <svg xmlns=\"http://www.w3.org/2000/svg\" height=\"24px\"viewBox=\"0 0 24 24\"\n",
              "       width=\"24px\">\n",
              "    <path d=\"M0 0h24v24H0V0z\" fill=\"none\"/>\n",
              "    <path d=\"M18.56 5.44l.94 2.06.94-2.06 2.06-.94-2.06-.94-.94-2.06-.94 2.06-2.06.94zm-11 1L8.5 8.5l.94-2.06 2.06-.94-2.06-.94L8.5 2.5l-.94 2.06-2.06.94zm10 10l.94 2.06.94-2.06 2.06-.94-2.06-.94-.94-2.06-.94 2.06-2.06.94z\"/><path d=\"M17.41 7.96l-1.37-1.37c-.4-.4-.92-.59-1.43-.59-.52 0-1.04.2-1.43.59L10.3 9.45l-7.72 7.72c-.78.78-.78 2.05 0 2.83L4 21.41c.39.39.9.59 1.41.59.51 0 1.02-.2 1.41-.59l7.78-7.78 2.81-2.81c.8-.78.8-2.07 0-2.86zM5.41 20L4 18.59l7.72-7.72 1.47 1.35L5.41 20z\"/>\n",
              "  </svg>\n",
              "      </button>\n",
              "      \n",
              "  <style>\n",
              "    .colab-df-container {\n",
              "      display:flex;\n",
              "      flex-wrap:wrap;\n",
              "      gap: 12px;\n",
              "    }\n",
              "\n",
              "    .colab-df-convert {\n",
              "      background-color: #E8F0FE;\n",
              "      border: none;\n",
              "      border-radius: 50%;\n",
              "      cursor: pointer;\n",
              "      display: none;\n",
              "      fill: #1967D2;\n",
              "      height: 32px;\n",
              "      padding: 0 0 0 0;\n",
              "      width: 32px;\n",
              "    }\n",
              "\n",
              "    .colab-df-convert:hover {\n",
              "      background-color: #E2EBFA;\n",
              "      box-shadow: 0px 1px 2px rgba(60, 64, 67, 0.3), 0px 1px 3px 1px rgba(60, 64, 67, 0.15);\n",
              "      fill: #174EA6;\n",
              "    }\n",
              "\n",
              "    [theme=dark] .colab-df-convert {\n",
              "      background-color: #3B4455;\n",
              "      fill: #D2E3FC;\n",
              "    }\n",
              "\n",
              "    [theme=dark] .colab-df-convert:hover {\n",
              "      background-color: #434B5C;\n",
              "      box-shadow: 0px 1px 3px 1px rgba(0, 0, 0, 0.15);\n",
              "      filter: drop-shadow(0px 1px 2px rgba(0, 0, 0, 0.3));\n",
              "      fill: #FFFFFF;\n",
              "    }\n",
              "  </style>\n",
              "\n",
              "      <script>\n",
              "        const buttonEl =\n",
              "          document.querySelector('#df-0bc7d5ce-3890-4f75-930c-afc36cf6b31b button.colab-df-convert');\n",
              "        buttonEl.style.display =\n",
              "          google.colab.kernel.accessAllowed ? 'block' : 'none';\n",
              "\n",
              "        async function convertToInteractive(key) {\n",
              "          const element = document.querySelector('#df-0bc7d5ce-3890-4f75-930c-afc36cf6b31b');\n",
              "          const dataTable =\n",
              "            await google.colab.kernel.invokeFunction('convertToInteractive',\n",
              "                                                     [key], {});\n",
              "          if (!dataTable) return;\n",
              "\n",
              "          const docLinkHtml = 'Like what you see? Visit the ' +\n",
              "            '<a target=\"_blank\" href=https://colab.research.google.com/notebooks/data_table.ipynb>data table notebook</a>'\n",
              "            + ' to learn more about interactive tables.';\n",
              "          element.innerHTML = '';\n",
              "          dataTable['output_type'] = 'display_data';\n",
              "          await google.colab.output.renderOutput(dataTable, element);\n",
              "          const docLink = document.createElement('div');\n",
              "          docLink.innerHTML = docLinkHtml;\n",
              "          element.appendChild(docLink);\n",
              "        }\n",
              "      </script>\n",
              "    </div>\n",
              "  </div>\n",
              "  "
            ]
          },
          "metadata": {},
          "execution_count": 29
        }
      ],
      "source": [
        "X_train.head()"
      ]
    },
    {
      "cell_type": "code",
      "execution_count": 30,
      "metadata": {
        "id": "fz2LUW9HnfvS"
      },
      "outputs": [],
      "source": [
        "# function to evaluate\n",
        "from sklearn.model_selection import cross_validate\n",
        "from sklearn.metrics import accuracy_score, recall_score, precision_score, roc_auc_score, f1_score, average_precision_score\n",
        "from sklearn.model_selection import StratifiedKFold\n",
        "def analyse(model, xtrain, ytrain, xtest, ytest):\n",
        "    model.fit(xtrain, ytrain)\n",
        "    sk = StratifiedKFold(5, shuffle=True, random_state=0)\n",
        "    sf_scorer = cross_validate(model, xtrain, ytrain, \n",
        "                               scoring=['roc_auc', 'accuracy', 'precision', 'recall', 'f1'], cv=sk)\n",
        "    accuracy = sf_scorer['test_accuracy'].mean()\n",
        "    recall = sf_scorer['test_recall'].mean()\n",
        "    precision = sf_scorer['test_precision'].mean()\n",
        "    roc_auc = sf_scorer['test_roc_auc'].mean()\n",
        "    f1score = sf_scorer['test_f1'].mean()\n",
        "    try:\n",
        "        y_score_test = model.decision_function(xtest)\n",
        "        y_score_train = model.decision_function(xtrain)\n",
        "    except:\n",
        "        y_score_test = model.predict_proba(xtest)[:,1]\n",
        "        y_score_train = model.predict_proba(xtrain)[:,1]\n",
        "    \n",
        "    print('Training Set Scores\\n') \n",
        "    print('PR_AUC: ', average_precision_score(ytrain, y_score_train))\n",
        "    print(f'Accuracy: {accuracy}\\nRecall: {recall}\\nPrecision: {precision}\\nROC_AUC: {roc_auc} \\nf1_score: {f1score}\\n')\n",
        "    ypred = model.predict(xtest)\n",
        "    print('\\nValidation Set Scores\\n')\n",
        "    print('PR_AUC: ', average_precision_score(ytest, y_score_test))\n",
        "    print(f'Accuracy: {accuracy_score(ytest, ypred)}\\nRecall: {recall_score(ytest, ypred)}\\nPrecision: {precision_score(ytest, ypred)}\\nROC_AUC: {roc_auc_score(ytest, y_score_test)} \\nf1_score: {f1_score(ytest, ypred)}')"
      ]
    },
    {
      "cell_type": "code",
      "source": [
        "!pip3 install optunity"
      ],
      "metadata": {
        "colab": {
          "base_uri": "https://localhost:8080/"
        },
        "id": "YBopKzShy5GZ",
        "outputId": "73f2edef-69e7-4f39-c2d2-2b3ecae57dd8"
      },
      "execution_count": 31,
      "outputs": [
        {
          "output_type": "stream",
          "name": "stdout",
          "text": [
            "Looking in indexes: https://pypi.org/simple, https://us-python.pkg.dev/colab-wheels/public/simple/\n",
            "Collecting optunity\n",
            "  Downloading Optunity-1.1.1.tar.gz (4.6 MB)\n",
            "\u001b[K     |████████████████████████████████| 4.6 MB 4.3 MB/s \n",
            "\u001b[?25hBuilding wheels for collected packages: optunity\n",
            "  Building wheel for optunity (setup.py) ... \u001b[?25l\u001b[?25hdone\n",
            "  Created wheel for optunity: filename=Optunity-1.1.1-py3-none-any.whl size=72032 sha256=e969075ebbb62b12729b4264e688878fdd44265b330d40922db5a34a9245867e\n",
            "  Stored in directory: /root/.cache/pip/wheels/0d/0e/31/a4763ff822a20f88a61dd3bb1c8b78a8f25c605392fe956d07\n",
            "Successfully built optunity\n",
            "Installing collected packages: optunity\n",
            "Successfully installed optunity-1.1.1\n"
          ]
        }
      ]
    },
    {
      "cell_type": "markdown",
      "metadata": {
        "id": "AoDGw9WinfvT"
      },
      "source": [
        "# Random Forest"
      ]
    },
    {
      "cell_type": "code",
      "execution_count": 32,
      "metadata": {
        "id": "nxOBvY1_nfvT"
      },
      "outputs": [],
      "source": [
        "import optunity\n",
        "import optunity.metrics\n",
        "from sklearn.ensemble import RandomForestClassifier,RandomForestRegressor\n",
        "from sklearn.model_selection import train_test_split,cross_val_score"
      ]
    },
    {
      "cell_type": "code",
      "execution_count": 33,
      "metadata": {
        "id": "UyEgznImnfvT"
      },
      "outputs": [],
      "source": [
        "data = X.values.tolist()\n",
        "lables=y.values.tolist()"
      ]
    },
    {
      "cell_type": "code",
      "execution_count": 34,
      "metadata": {
        "id": "tzDFnXFknfvT",
        "outputId": "62e4b94e-0909-4f72-8091-5361df140299",
        "colab": {
          "base_uri": "https://localhost:8080/"
        }
      },
      "outputs": [
        {
          "output_type": "stream",
          "name": "stdout",
          "text": [
            "{'n_estimators': 50.84771847938852, 'max_features': 12.337304867192726, 'max_depth': 28.8047658265401, 'min_samples_split': 6.266214365271954, 'min_samples_leaf': 3.5688016989074325, 'criterion': 0.556107057346397}\n",
            "Accuracy:0.8289790685851955\n"
          ]
        }
      ],
      "source": [
        "search = {\n",
        "    'n_estimators': [10, 100],\n",
        "    'max_features': [1, 36],\n",
        "    'max_depth': [5, 50],\n",
        "    'min_samples_split': [2, 11],\n",
        "    'min_samples_leaf': [1, 11],\n",
        "    'criterion': [0, 1]\n",
        "}\n",
        "\n",
        "# defining the objective function.\n",
        "\n",
        "@optunity.cross_validated(x=data, y=lables, num_folds=3)\n",
        "def performance(x_train, y_train, x_test, y_test, n_estimators=None,max_features=None,max_depth=None,min_samples_split=None,min_samples_leaf=None,criterion=None):\n",
        "    if criterion<0.5:\n",
        "        cri='gini'\n",
        "    else:\n",
        "        cri='entropy'\n",
        "    model = RandomForestClassifier(n_estimators=int(n_estimators),\n",
        "                                   max_features=int(max_features),\n",
        "                                   max_depth=int(max_depth),\n",
        "                                   min_samples_split=int(min_samples_split),\n",
        "                                   min_samples_leaf=int(min_samples_leaf),\n",
        "                                   criterion=cri)\n",
        "    scores=np.mean(cross_val_score(model, X, y, cv=3, n_jobs=-1,\n",
        "                                    scoring=\"accuracy\"))\n",
        "    return scores\n",
        "\n",
        "\n",
        "\n",
        "optimal_configuration, info, _ = optunity.maximize(performance,\n",
        "                                                  solver_name='particle swarm',\n",
        "                                                  num_evals=50,\n",
        "                                                   **search\n",
        "                                                  )\n",
        "print(optimal_configuration)\n",
        "print(\"Accuracy:\"+ str(info.optimum))"
      ]
    },
    {
      "cell_type": "markdown",
      "metadata": {
        "id": "3qUO4rrnnfvU"
      },
      "source": [
        "<p>best config so far<span style=\"color: red;\">{'n_estimators': 36.909329919738084, 'max_features': 14.381614394135871, 'max_depth': 36.88696180717528, 'min_samples_split': 9.878321388964121, 'min_samples_leaf': 7.142469016695842, 'criterion': 0.5991596777322913}</span></p>"
      ]
    },
    {
      "cell_type": "code",
      "execution_count": 35,
      "metadata": {
        "id": "ufIgARFvnfvU"
      },
      "outputs": [],
      "source": [
        "solver_para = {\n",
        "    'num_particles': 20,\n",
        "    'num_generations': 5,\n",
        "    'phi1': 0.4,\n",
        "    'phi2': 0.1\n",
        "}\n",
        "para_name = ('num_particles', 'num_generations', 'phi1', 'phi2')\n",
        "\n",
        "solver_obj = optunity.make_solver(solver_name='particle swarm', **solver_para)"
      ]
    },
    {
      "cell_type": "code",
      "execution_count": 36,
      "metadata": {
        "id": "b66SIalwnfvU",
        "outputId": "f746c421-bce0-418f-dfc1-1e8018951a9c",
        "colab": {
          "base_uri": "https://localhost:8080/"
        }
      },
      "outputs": [
        {
          "output_type": "stream",
          "name": "stdout",
          "text": [
            "{'n_estimators': 84.43737351779912, 'max_features': 11.400351726825406, 'max_depth': 39.672458983395735, 'min_samples_split': 4.127774830584958, 'min_samples_leaf': 2.4381732536139507, 'criterion': 0.7249675775057925}\n",
            "Accuracy:0.8290232743186792\n"
          ]
        }
      ],
      "source": [
        "optimal_configuration, info, _ = optunity.maximize(performance,\n",
        "                                                  solver_name='particle swarm',\n",
        "                                                   **search\n",
        "                                                  )\n",
        "print(optimal_configuration)\n",
        "print(\"Accuracy:\"+ str(info.optimum))"
      ]
    },
    {
      "cell_type": "markdown",
      "metadata": {
        "id": "u-aN6bfVnfvV"
      },
      "source": [
        "<p>best optimization second run <span style=\"color: red;\">{'n_estimators': 60.7568359375, 'max_features': 7.58837890625, 'max_depth': 44.83642578125, 'min_samples_split': 6.20556640625, 'min_samples_leaf': 2.7431640625, 'criterion': 0.15966796875}</span></p>"
      ]
    },
    {
      "cell_type": "code",
      "execution_count": 37,
      "metadata": {
        "scrolled": true,
        "id": "tPPuDy7QnfvW",
        "outputId": "838e2d86-1273-4dbb-acac-bdd3924fb218",
        "colab": {
          "base_uri": "https://localhost:8080/"
        }
      },
      "outputs": [
        {
          "output_type": "execute_result",
          "data": {
            "text/plain": [
              "50"
            ]
          },
          "metadata": {},
          "execution_count": 37
        }
      ],
      "source": [
        "info.call_log['args']['max_features'].__len__()"
      ]
    },
    {
      "cell_type": "code",
      "execution_count": 37,
      "metadata": {
        "id": "pg635fNvnfvW"
      },
      "outputs": [],
      "source": [
        ""
      ]
    }
  ],
  "metadata": {
    "kernelspec": {
      "display_name": "Python 3",
      "language": "python",
      "name": "python3"
    },
    "language_info": {
      "codemirror_mode": {
        "name": "ipython",
        "version": 3
      },
      "file_extension": ".py",
      "mimetype": "text/x-python",
      "name": "python",
      "nbconvert_exporter": "python",
      "pygments_lexer": "ipython3",
      "version": "3.8.10"
    },
    "colab": {
      "name": "Adult Census_PSO.ipynb",
      "provenance": [],
      "collapsed_sections": [],
      "include_colab_link": true
    }
  },
  "nbformat": 4,
  "nbformat_minor": 0
}